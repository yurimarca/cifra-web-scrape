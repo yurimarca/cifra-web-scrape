{
 "cells": [
  {
   "cell_type": "markdown",
   "id": "326a24fb",
   "metadata": {},
   "source": [
    "# Cifra Genre Classification\n",
    "\n",
    "- In this notebook, we will use FastAI and HuggingFace libraries to fine-tune deep learning models for music genre classification on our dataset.\n",
    "- These libraries help us leverage state-of-the-art models like RNNs and Transformers.\n",
    "- Initially, we'll explore using artist genre for prediction, but keep in mind this might not be very accurate due to genre variations within an artist's work.\n",
    "- Since music genre classification is often linked to song content, we can adapt successful NLP (Natural Language Processing) techniques for text classification to analyze song cifras and predict genre.\n",
    "- These models can be used to predict genres for unlabeled data (\"nao-informada\") in our dataset.\n",
    "- While RNNs are capable of text generation, generating cifras is a more specialized task that might require additional techniques beyond basic RNNs."
   ]
  },
  {
   "cell_type": "markdown",
   "id": "1a922bff",
   "metadata": {},
   "source": [
    "## Dataset available\n",
    "\n",
    "Let's refresh the dataset we have consolidated and check some possible issues to deep learning model fine-tuning: \n",
    "1. There are too many artist genres;\n",
    "2. The distribution of cifras is not balanced accross different genres.\n",
    "3. Some genres have only a few samples.\n",
    "\n",
    "Therefore, let's select only the top 7 well-known Brazilian music genres, excluding some redundant classifications"
   ]
  },
  {
   "cell_type": "code",
   "execution_count": 1,
   "id": "fe7ac3f3",
   "metadata": {},
   "outputs": [
    {
     "data": {
      "text/html": [
       "<div>\n",
       "<style scoped>\n",
       "    .dataframe tbody tr th:only-of-type {\n",
       "        vertical-align: middle;\n",
       "    }\n",
       "\n",
       "    .dataframe tbody tr th {\n",
       "        vertical-align: top;\n",
       "    }\n",
       "\n",
       "    .dataframe thead th {\n",
       "        text-align: right;\n",
       "    }\n",
       "</style>\n",
       "<table border=\"1\" class=\"dataframe\">\n",
       "  <thead>\n",
       "    <tr style=\"text-align: right;\">\n",
       "      <th></th>\n",
       "      <th>cifra_url</th>\n",
       "      <th>url_artist_name</th>\n",
       "      <th>artist_name</th>\n",
       "      <th>artist_genre</th>\n",
       "      <th>url_song_name</th>\n",
       "      <th>song_name</th>\n",
       "      <th>cifra_file_loc</th>\n",
       "      <th>cifra_key</th>\n",
       "    </tr>\n",
       "  </thead>\n",
       "  <tbody>\n",
       "    <tr>\n",
       "      <th>count</th>\n",
       "      <td>60561</td>\n",
       "      <td>60561</td>\n",
       "      <td>60561</td>\n",
       "      <td>60561</td>\n",
       "      <td>60561</td>\n",
       "      <td>60561</td>\n",
       "      <td>60561</td>\n",
       "      <td>60561</td>\n",
       "    </tr>\n",
       "    <tr>\n",
       "      <th>unique</th>\n",
       "      <td>60561</td>\n",
       "      <td>15271</td>\n",
       "      <td>15953</td>\n",
       "      <td>73</td>\n",
       "      <td>48463</td>\n",
       "      <td>49596</td>\n",
       "      <td>60561</td>\n",
       "      <td>37</td>\n",
       "    </tr>\n",
       "    <tr>\n",
       "      <th>top</th>\n",
       "      <td>https://www.cifras.com.br/cifra/gesil-amarante...</td>\n",
       "      <td>hinos-avulsos-ccb</td>\n",
       "      <td>Hinos Avulsos Ccb</td>\n",
       "      <td>nao-informada</td>\n",
       "      <td>saudade</td>\n",
       "      <td>Saudade</td>\n",
       "      <td>cifras/gesil-amarante-jr/sou-um-milagre.txt</td>\n",
       "      <td>G</td>\n",
       "    </tr>\n",
       "    <tr>\n",
       "      <th>freq</th>\n",
       "      <td>1</td>\n",
       "      <td>306</td>\n",
       "      <td>293</td>\n",
       "      <td>14746</td>\n",
       "      <td>62</td>\n",
       "      <td>61</td>\n",
       "      <td>1</td>\n",
       "      <td>9637</td>\n",
       "    </tr>\n",
       "  </tbody>\n",
       "</table>\n",
       "</div>"
      ],
      "text/plain": [
       "                                                cifra_url    url_artist_name  \\\n",
       "count                                               60561              60561   \n",
       "unique                                              60561              15271   \n",
       "top     https://www.cifras.com.br/cifra/gesil-amarante...  hinos-avulsos-ccb   \n",
       "freq                                                    1                306   \n",
       "\n",
       "              artist_name   artist_genre url_song_name song_name  \\\n",
       "count               60561          60561         60561     60561   \n",
       "unique              15953             73         48463     49596   \n",
       "top     Hinos Avulsos Ccb  nao-informada       saudade   Saudade   \n",
       "freq                  293          14746            62        61   \n",
       "\n",
       "                                     cifra_file_loc cifra_key  \n",
       "count                                         60561     60561  \n",
       "unique                                        60561        37  \n",
       "top     cifras/gesil-amarante-jr/sou-um-milagre.txt         G  \n",
       "freq                                              1      9637  "
      ]
     },
     "execution_count": 1,
     "metadata": {},
     "output_type": "execute_result"
    }
   ],
   "source": [
    "import pandas as pd\n",
    "\n",
    "cifras_df = pd.read_csv(\"valid_cifras.csv\", index_col=0)\n",
    "cifras_df.describe(include=[object])"
   ]
  },
  {
   "cell_type": "code",
   "execution_count": 2,
   "id": "cbb03331",
   "metadata": {
    "scrolled": true
   },
   "outputs": [
    {
     "data": {
      "text/plain": [
       "array(['gospel', 'mpb', 'indie-rock', 'rockn-roll', 'nao-informada',\n",
       "       'catolicas', 'sertanejo', 'infantis', 'brasil', 'worship',\n",
       "       'jovem-guarda', 'pisadinha', 'rock-alternativo', 'forro',\n",
       "       'punk-rock', 'diversos', 'gauchas', 'romantica', 'pop-music',\n",
       "       'funk-carioca', 'folk', 'samba-e-pagode', 'pop-rock',\n",
       "       'velha-guarda', 'oldies', 'latinas', 'regional', 'musica-crista',\n",
       "       'reggae', 'eletronica', 'raphip-hop', 'axe-music', 'brega',\n",
       "       'espiritas', 'rock-classico', 'indie', 'heavy-metal', 'country',\n",
       "       'indie-pop', 'funk', 'bossa-nova', 'rb', 'trap', 'fado', 'musical',\n",
       "       'blues', 'indian', 'Samba-Rock', 'besteirol', 'autoconhecimento',\n",
       "       'rock-grunge', 'musica-nativista', 'hinos', 'samba-enredo',\n",
       "       'australiano', 'thrash-metal', 'umbanda', 'jazz', 'novelas',\n",
       "       'jingle', 'rock-gotico', 'choro', 'soul', 'filmes', 'lambada',\n",
       "       'reggaeton', 'disco', 'k-pop', 'especial-de-natal', 'numetal',\n",
       "       'dance-music', 'opera', 'mangue'], dtype=object)"
      ]
     },
     "execution_count": 2,
     "metadata": {},
     "output_type": "execute_result"
    }
   ],
   "source": [
    "cifras_df.artist_genre.unique()"
   ]
  },
  {
   "cell_type": "code",
   "execution_count": 3,
   "id": "796eb65d",
   "metadata": {},
   "outputs": [
    {
     "data": {
      "text/plain": [
       "73"
      ]
     },
     "execution_count": 3,
     "metadata": {},
     "output_type": "execute_result"
    }
   ],
   "source": [
    "len(cifras_df.artist_genre.unique())"
   ]
  },
  {
   "cell_type": "code",
   "execution_count": 4,
   "id": "453e1497",
   "metadata": {},
   "outputs": [
    {
     "data": {
      "text/plain": [
       "[['nao-informada', 14746],\n",
       " ['gospel', 9902],\n",
       " ['sertanejo', 8058],\n",
       " ['mpb', 4291],\n",
       " ['samba-e-pagode', 2527],\n",
       " ['forro', 2509],\n",
       " ['pop-music', 2198],\n",
       " ['catolicas', 1907],\n",
       " ['rockn-roll', 1872],\n",
       " ['diversos', 1466]]"
      ]
     },
     "execution_count": 4,
     "metadata": {},
     "output_type": "execute_result"
    }
   ],
   "source": [
    "genres = [[genre,len(cifras_df[cifras_df['artist_genre']==genre])] for genre in cifras_df.artist_genre.unique()]\n",
    "sorted(genres,key=lambda x: x[1], reverse=True)[0:10]"
   ]
  },
  {
   "cell_type": "code",
   "execution_count": 5,
   "id": "f431cb75",
   "metadata": {},
   "outputs": [
    {
     "name": "stdout",
     "output_type": "stream",
     "text": [
      "Selected genres: ['gospel', 'sertanejo', 'mpb', 'samba-e-pagode', 'forro', 'pop-music', 'rockn-roll']\n"
     ]
    }
   ],
   "source": [
    "selected_genres = ['gospel','sertanejo','mpb','samba-e-pagode','forro','pop-music','rockn-roll']\n",
    "print(\"Selected genres: \" + str(selected_genres))"
   ]
  },
  {
   "cell_type": "markdown",
   "id": "7de49e27",
   "metadata": {},
   "source": [
    "#### FastAI expects labels of the data to be organized in a certain way:\n",
    "- \"train\" and \"test\" folders will split the dataset into training and validation data.\n",
    "- In each folder, there will be folders with each classification possible, so we will organize the cifras folder with genres instead of artists."
   ]
  },
  {
   "cell_type": "markdown",
   "id": "7a7a5127",
   "metadata": {},
   "source": [
    "## Dataset Path Organization and balance data\n",
    "\n",
    "- Reorganize the paths according to what FastAI expects.\n",
    "- Balance the data getting randomly 1500 cifras for each genre.\n",
    "- Split dataset into training 80% and validation 20%."
   ]
  },
  {
   "cell_type": "code",
   "execution_count": 6,
   "id": "93540230",
   "metadata": {},
   "outputs": [],
   "source": [
    "from pathlib import Path\n",
    "import shutil\n",
    "import os\n",
    "\n",
    "num_cifras = 10\n",
    "train_prop = 0.8\n",
    "\n",
    "new_folder ='selected_cifras_test'\n",
    "\n",
    "def organize_df_to_training(new_folder, num_cifras, train_prop, random_seed=42):\n",
    "\n",
    "    train_folder = new_folder + '/train'\n",
    "    valid_folder = new_folder + \"/test\"\n",
    "\n",
    "    # Check if new folder already exists\n",
    "    if os.path.isdir(new_folder):\n",
    "        # Remove folder if already exists\n",
    "        shutil.rmtree(new_folder)\n",
    "\n",
    "    # Create new folder\n",
    "    os.makedirs(new_folder)\n",
    "    os.makedirs(train_folder)\n",
    "    os.makedirs(valid_folder)\n",
    "\n",
    "    # Loop through all selected genres\n",
    "    for genre in selected_genres:\n",
    "\n",
    "        # Create subfolders for that genre\n",
    "        new_train_folder = train_folder + \"/\" + genre\n",
    "        os.makedirs(new_train_folder)\n",
    "        new_train_path = Path(new_train_folder)\n",
    "\n",
    "        new_valid_folder = valid_folder + \"/\" + genre\n",
    "        os.makedirs(new_valid_folder)\n",
    "        new_valid_path = Path(new_valid_folder)\n",
    "\n",
    "        # Get all itens for that selected genre\n",
    "        subset_df = cifras_df[cifras_df[\"artist_genre\"] == genre]\n",
    "        # Take some samples of cifras for that genre\n",
    "        samples = subset_df.sample(num_cifras, random_state=random_seed)\n",
    "\n",
    "        #Split into train and valid\n",
    "        train_samples = samples.iloc[:int(len(samples)*train_prop)]\n",
    "        valid_samples = samples.iloc[int(len(samples)*train_prop):]\n",
    "\n",
    "        # Copy training samples\n",
    "        for index, row in train_samples.iterrows():    \n",
    "            if Path(row.cifra_file_loc).is_file():\n",
    "                # Copy file to new folder while adding artist name to cifra file name\n",
    "                new_location = new_train_path / (row.url_artist_name + \"_\" + row.url_song_name + \".txt\" )\n",
    "\n",
    "                shutil.copy(row.cifra_file_loc, new_location)\n",
    "            else:\n",
    "                print(\"File not found!\")\n",
    "\n",
    "        # Copy validation samples\n",
    "        for index, row in valid_samples.iterrows():    \n",
    "            if Path(row.cifra_file_loc).is_file():\n",
    "                # Copy file to new folder while adding artist name to cifra file name\n",
    "                new_location = new_valid_path / (row.url_artist_name + \"_\" + row.url_song_name + \".txt\" )\n",
    "\n",
    "                shutil.copy(row.cifra_file_loc, new_location)\n",
    "            else:\n",
    "                print(f\"Cifra File {row.cifra_file_loc} not found!\")\n",
    "\n",
    "\n",
    "num_cifras = 10 # Number of cifras for each genre\n",
    "train_prop = 0.8 # Proportion of cifras that will be to training, the rest will be for validation\n",
    "\n",
    "new_folder ='selected_cifras_test' # Name of folder where training dataset will be stored\n",
    "\n",
    "organize_df_to_training(new_folder, num_cifras, train_prop)"
   ]
  },
  {
   "cell_type": "code",
   "execution_count": 7,
   "id": "8675ff4d",
   "metadata": {},
   "outputs": [
    {
     "name": "stdout",
     "output_type": "stream",
     "text": [
      "\u001b[01;34mselected_cifras_test\u001b[0m\r\n",
      "├── \u001b[01;34mtest\u001b[0m\r\n",
      "│   ├── \u001b[01;34mforro\u001b[0m\r\n",
      "│   │   ├── avioes-do-forro_seu-choro-nao-me-faz-desistir.txt\r\n",
      "│   │   └── wesley-safadao_amiga-parceira.txt\r\n",
      "│   ├── \u001b[01;34mgospel\u001b[0m\r\n",
      "│   │   ├── comunidade-doce-mae-de-deus_apenas-comecou.txt\r\n",
      "│   │   └── julio-cesar-e-marlene_foi-ele.txt\r\n",
      "│   ├── \u001b[01;34mmpb\u001b[0m\r\n",
      "│   │   ├── nilo-amaro-e-seus-cantores-de-ebano_urutau.txt\r\n",
      "│   │   └── tie_a-bailarina-e-o-astronauta.txt\r\n",
      "│   ├── \u001b[01;34mpop-music\u001b[0m\r\n",
      "│   │   ├── junior-de-oliveira_jeitinho-perfeito.txt\r\n",
      "│   │   └── wanessa-camargo_vou-lembrar.txt\r\n",
      "│   ├── \u001b[01;34mrockn-roll\u001b[0m\r\n",
      "│   │   ├── cor-do-invisivel_sosia-em-ideias.txt\r\n",
      "│   │   └── divididos_ojos-de-rio.txt\r\n",
      "│   ├── \u001b[01;34msamba-e-pagode\u001b[0m\r\n",
      "│   │   ├── grupo-na-hora-h_no-batuque-do-meu-samba.txt\r\n",
      "│   │   └── os-originais-do-samba_tenha-fe-pois-amanha-um-lindo-dia-vai-nascer.txt\r\n",
      "│   └── \u001b[01;34msertanejo\u001b[0m\r\n",
      "│       ├── roberta-miranda_gracas-a-deus.txt\r\n",
      "│       └── tonico-e-tinoco_historia-da-minha-vida.txt\r\n",
      "└── \u001b[01;34mtrain\u001b[0m\r\n",
      "    ├── \u001b[01;34mforro\u001b[0m\r\n",
      "    │   ├── arriba-saia_junho.txt\r\n",
      "    │   ├── dominguinhos_querubim.txt\r\n",
      "    │   ├── garota-safada_fora-do-eixo.txt\r\n",
      "    │   ├── garota-safada_o-pegador.txt\r\n",
      "    │   ├── juliette_diferenca-mara.txt\r\n",
      "    │   ├── libio_isso-e-imortal.txt\r\n",
      "    │   ├── miltinho_se-voce-visse.txt\r\n",
      "    │   └── pedra-benta_toma-jeito.txt\r\n",
      "    ├── \u001b[01;34mgospel\u001b[0m\r\n",
      "    │   ├── edenia-morais_obrigado-jesus.txt\r\n",
      "    │   ├── irmas-leonel_o-servo-tem-consolador.txt\r\n",
      "    │   ├── jessica-augusto_sou-mais.txt\r\n",
      "    │   ├── jose-wantuil_muralhas-gigantes.txt\r\n",
      "    │   ├── marcus-salles_quero-ser-teu.txt\r\n",
      "    │   ├── ministerio-sao-miguel-arcanjo_aruja.txt\r\n",
      "    │   ├── padre-rodrigo-natal_liberta-me-senhor-jesus.txt\r\n",
      "    │   └── testemunhas-de-jeova_quero-ser-como-noe.txt\r\n",
      "    ├── \u001b[01;34mmpb\u001b[0m\r\n",
      "    │   ├── caetano-veloso_jeito-de-corpo.txt\r\n",
      "    │   ├── lo-borges_nenhum-misterio.txt\r\n",
      "    │   ├── lucinha-lins_espelhos-de-camarim.txt\r\n",
      "    │   ├── ney-matogrosso_belissima.txt\r\n",
      "    │   ├── oswaldo-montenegro_por-descuido-ou-displicencia.txt\r\n",
      "    │   ├── pery-ribeiro_na-baixa-do-sapateiro.txt\r\n",
      "    │   ├── valeria-costa_nuvens-no-ceu.txt\r\n",
      "    │   └── vitor-hugo_hobin-hood-da-paixao.txt\r\n",
      "    ├── \u001b[01;34mpop-music\u001b[0m\r\n",
      "    │   ├── alejandro-alonso_no-me-digas.txt\r\n",
      "    │   ├── d-zero_me-estoy-enamorando.txt\r\n",
      "    │   ├── iza_esse-brilho-e-meu.txt\r\n",
      "    │   ├── jorge-palma_jeremias-o-fora-da-lei.txt\r\n",
      "    │   ├── mallu-magalhaes_america-latina.txt\r\n",
      "    │   ├── moderatto_desatados.txt\r\n",
      "    │   ├── rauw-alejandro_curame.txt\r\n",
      "    │   └── sandy-junior_e-cedo-pra-amar-assim.txt\r\n",
      "    ├── \u001b[01;34mrockn-roll\u001b[0m\r\n",
      "    │   ├── alejandro-lerner_no-te-aguanto-mas.txt\r\n",
      "    │   ├── charly-garcia_demasiado-ego-one-to-one.txt\r\n",
      "    │   ├── despistaos_mi-accidente-preferido.txt\r\n",
      "    │   ├── engenheiros-do-hawaii_eternas-ondas.txt\r\n",
      "    │   ├── jaguares_como-tu.txt\r\n",
      "    │   ├── leusemia_miradas-incompletas.txt\r\n",
      "    │   ├── selvagens-a-procura-de-lei_mucambo-cafundo.txt\r\n",
      "    │   └── video-hits_louco-por-voce.txt\r\n",
      "    ├── \u001b[01;34msamba-e-pagode\u001b[0m\r\n",
      "    │   ├── dilsinho_terra-do-nunca.txt\r\n",
      "    │   ├── grupo-deixa-rolar_so-por-acaso.txt\r\n",
      "    │   ├── katinguele_axe-a-sua-fe.txt\r\n",
      "    │   ├── oba-oba-samba-house_dessa-vez-aprendo.txt\r\n",
      "    │   ├── pegadapan_ja-descobri.txt\r\n",
      "    │   ├── raca-negra_assim.txt\r\n",
      "    │   ├── raca-negra_cheias-de-manias.txt\r\n",
      "    │   └── toniquinho-batuqueiro_ditado-antigo.txt\r\n",
      "    └── \u001b[01;34msertanejo\u001b[0m\r\n",
      "        ├── conrado-e-aleksandro_chorando-mamado.txt\r\n",
      "        ├── gusttavo-lima_minha-estrela-perdida.txt\r\n",
      "        ├── jads-e-jadson_toca-um-joao-mineiro-e-marciano.txt\r\n",
      "        ├── leonardo_homem-e-que-nem-lata.txt\r\n",
      "        ├── lucas-silva_agenda-rabiscada.txt\r\n",
      "        ├── luiza-e-maurilio_s-de-saudade-part-ze-neto-e-cristiano.txt\r\n",
      "        ├── marcos-e-belutti_um-dia-a-gente-se-encontra.txt\r\n",
      "        └── ze-neto-e-cristiano_bebi-minha-bicicleta.txt\r\n",
      "\r\n",
      "17 directories, 70 files\r\n"
     ]
    }
   ],
   "source": [
    "!tree selected_cifras_test"
   ]
  },
  {
   "cell_type": "markdown",
   "id": "ee2825d9",
   "metadata": {},
   "source": [
    "- The previous code is capable of copying a number of samples from our dataset into an organized folder according to FastAI standards.\n",
    "- We run the code for a couple of samples only, and checked that it is splitting the dataset correctly.\n",
    "- Now we can generate the split of 1500 cifras for each music genre."
   ]
  },
  {
   "cell_type": "code",
   "execution_count": 8,
   "id": "6248cc0a",
   "metadata": {},
   "outputs": [],
   "source": [
    "num_cifras = 1500 # Number of cifras for each genre\n",
    "train_prop = 0.8 # Proportion of cifras that will be to training, the rest will be for validation\n",
    "\n",
    "new_folder ='selected_cifras' # Name of folder where training dataset will be stored\n",
    "\n",
    "organize_df_to_training(new_folder, num_cifras, train_prop)"
   ]
  },
  {
   "cell_type": "code",
   "execution_count": 11,
   "id": "850efaf7",
   "metadata": {},
   "outputs": [
    {
     "name": "stdout",
     "output_type": "stream",
     "text": [
      "\u001b[01;34mselected_cifras\u001b[0m\r\n",
      "├── \u001b[01;34mtest\u001b[0m\r\n",
      "│   ├── \u001b[01;34mforro\u001b[0m  [300 entries exceeds filelimit, not opening dir]\r\n",
      "│   ├── \u001b[01;34mgospel\u001b[0m  [300 entries exceeds filelimit, not opening dir]\r\n",
      "│   ├── \u001b[01;34mmpb\u001b[0m  [300 entries exceeds filelimit, not opening dir]\r\n",
      "│   ├── \u001b[01;34mpop-music\u001b[0m  [300 entries exceeds filelimit, not opening dir]\r\n",
      "│   ├── \u001b[01;34mrockn-roll\u001b[0m  [300 entries exceeds filelimit, not opening dir]\r\n",
      "│   ├── \u001b[01;34msamba-e-pagode\u001b[0m  [300 entries exceeds filelimit, not opening dir]\r\n",
      "│   └── \u001b[01;34msertanejo\u001b[0m  [300 entries exceeds filelimit, not opening dir]\r\n",
      "└── \u001b[01;34mtrain\u001b[0m\r\n",
      "    ├── \u001b[01;34mforro\u001b[0m  [1200 entries exceeds filelimit, not opening dir]\r\n",
      "    ├── \u001b[01;34mgospel\u001b[0m  [1200 entries exceeds filelimit, not opening dir]\r\n",
      "    ├── \u001b[01;34mmpb\u001b[0m  [1200 entries exceeds filelimit, not opening dir]\r\n",
      "    ├── \u001b[01;34mpop-music\u001b[0m  [1200 entries exceeds filelimit, not opening dir]\r\n",
      "    ├── \u001b[01;34mrockn-roll\u001b[0m  [1200 entries exceeds filelimit, not opening dir]\r\n",
      "    ├── \u001b[01;34msamba-e-pagode\u001b[0m  [1200 entries exceeds filelimit, not opening dir]\r\n",
      "    └── \u001b[01;34msertanejo\u001b[0m  [1200 entries exceeds filelimit, not opening dir]\r\n",
      "\r\n",
      "17 directories, 0 files\r\n"
     ]
    }
   ],
   "source": [
    "!tree selected_cifras --filelimit 10"
   ]
  },
  {
   "cell_type": "markdown",
   "id": "40d87832",
   "metadata": {},
   "source": [
    "## FastAI Text Classification"
   ]
  },
  {
   "cell_type": "code",
   "execution_count": 12,
   "id": "8f6a2cf2",
   "metadata": {},
   "outputs": [],
   "source": [
    "from fastai.text.all import *"
   ]
  },
  {
   "cell_type": "markdown",
   "id": "d0014604",
   "metadata": {},
   "source": [
    "- After organizing the folder and balacing the data for the top 7 music genres in the dataset, we can use FastAI DataLoaders and check what it looks like."
   ]
  },
  {
   "cell_type": "code",
   "execution_count": 13,
   "id": "28dc41ca",
   "metadata": {},
   "outputs": [
    {
     "data": {
      "text/html": [
       "\n",
       "<style>\n",
       "    /* Turns off some styling */\n",
       "    progress {\n",
       "        /* gets rid of default border in Firefox and Opera. */\n",
       "        border: none;\n",
       "        /* Needs to be in here for Safari polyfill so background images work as expected. */\n",
       "        background-size: auto;\n",
       "    }\n",
       "    progress:not([value]), progress:not([value])::-webkit-progress-bar {\n",
       "        background: repeating-linear-gradient(45deg, #7e7e7e, #7e7e7e 10px, #5c5c5c 10px, #5c5c5c 20px);\n",
       "    }\n",
       "    .progress-bar-interrupted, .progress-bar-interrupted::-webkit-progress-bar {\n",
       "        background: #F44336;\n",
       "    }\n",
       "</style>\n"
      ],
      "text/plain": [
       "<IPython.core.display.HTML object>"
      ]
     },
     "metadata": {},
     "output_type": "display_data"
    },
    {
     "data": {
      "text/html": [],
      "text/plain": [
       "<IPython.core.display.HTML object>"
      ]
     },
     "metadata": {},
     "output_type": "display_data"
    },
    {
     "name": "stderr",
     "output_type": "stream",
     "text": [
      "/home/ymarca/anaconda3/envs/deeplearning/lib/python3.8/site-packages/fastai/torch_core.py:263: UserWarning: 'has_mps' is deprecated, please use 'torch.backends.mps.is_built()'\n",
      "  return getattr(torch, 'has_mps', False)\n"
     ]
    },
    {
     "data": {
      "text/html": [
       "<table border=\"1\" class=\"dataframe\">\n",
       "  <thead>\n",
       "    <tr style=\"text-align: right;\">\n",
       "      <th></th>\n",
       "      <th>text</th>\n",
       "      <th>category</th>\n",
       "    </tr>\n",
       "  </thead>\n",
       "  <tbody>\n",
       "    <tr>\n",
       "      <th>0</th>\n",
       "      <td>xxbos [ intro]dução : f xxmaj dm xxmaj bb \\n\\n xxup verso 1 \\n\\n f xxmaj dm \\n xxmaj pisando fundo , acelerando tudo \\n xxmaj bb f xxup f7 f \\n xxmaj xxunk saindo do limite \\n f xxup f7 f xxmaj dm xxmaj bb xxmaj bb9 f xxup f7 f \\n é o que eu te disse eu sou assim , partindo pra cima , fugindo de mim \\n f xxup f7 f xxmaj dm \\n xxmaj eu corro muito , eu vou pra todo lado \\n xxmaj bb f xxup f7 f \\n xxmaj levando comigo quem ta do meu lado xxunk … \\n f xxmaj dm xxmaj bb xxmaj bb9 f xxup f7 f \\n é o que eu te disse eu sou assim , partindo pra cima , fugindo de mim \\n\\n pré - refrão \\n\\n xxmaj bb xxmaj dm \\n xxmaj ah não perco</td>\n",
       "      <td>rockn-roll</td>\n",
       "    </tr>\n",
       "    <tr>\n",
       "      <th>1</th>\n",
       "      <td>xxbos xxmaj abrir tablatura \\n▁\\n▁\\n▁ xxup intro ( freely ) \\n▁ xxmaj em xxmaj bm \\n▁ 1 + 2 + 3 + 4 + 1 + 2 + 3 + 4 + 1 + 2 + 3 + 4 + \\n e| xxrep 16 - | xxrep 16 - | xxrep 3 - +7 xxrep 11 - | \\n xxup b| xxrep 14 - 0-| xxrep 16 - | xxrep 3 - +7 xxrep 11 - | \\n xxup g| xxrep 12 - 0 xxrep 3 - | xxrep 16 - | xxrep 3 - +7 xxrep 11 - | \\n xxup d| xxrep 4 - 0 xxrep 3 - 2 / 4 xxrep 5 - \\ 2 - 0 xxrep 9 - 0 xxrep 3 - | xxrep 16 - | \\n xxmaj a|0h2 xxrep 13 - | xxrep 4 - 2 - 0 - h2 xxrep 6 -</td>\n",
       "      <td>pop-music</td>\n",
       "    </tr>\n",
       "    <tr>\n",
       "      <th>2</th>\n",
       "      <td>xxbos [ intro ] ( base del tema ) \\n\\n▁ d f d f d f d \\n xxmaj viaje de xxunk de sombras y cielos \\n▁ d f d f d xxmaj dsus4 \\n xxmaj mezcla de muerte y amor \\n▁ d f d f d f d \\n xxmaj pies que xxunk xxunk el suelo \\n▁ d f d f d xxmaj riff1 x2 \\n xxmaj mezcla de miedo y amor \\n\\n▁ xxmaj riff1 \\n xxmaj no son tus ojos ni tu bandera \\n▁ xxmaj riff1 \\n xxmaj no son tus ojos ni tu bandera \\n\\n d f d f d f d \\n xxmaj eso que dicen a veces no es cierto \\n d f d f d \\n xxmaj esto no es un desierto \\n▁ d f d f d f d \\n xxmaj nubes que siempre se caen del cielo \\n▁ d f d f</td>\n",
       "      <td>rockn-roll</td>\n",
       "    </tr>\n",
       "    <tr>\n",
       "      <th>3</th>\n",
       "      <td>xxbos [ intro ] d7m(9 ) xxup d6(9 ) xxup d7m(9 ) xxup d6(9 ) xxup d7m(9 ) \\n▁ bb7m(9 ) bb7 m bb7m(9 ) bb7 m \\n▁ bb7m(9 ) bb7 m bb7m(9 ) \\n\\n xxup d7m(9 ) \\n xxmaj melhor eu ir \\n▁ xxup g7 m f # m7 xxup g7 m \\n xxmaj tudo bem vai ser melhor só \\n▁ xxup d7m(9 ) \\n xxmaj se teve que ser assim \\n▁ xxup g7 m xxup c7(4 ) xxup b7(4 ) xxmaj bb7(4 ) xxup a7(4 ) \\n é que pensando bem nunca existiu nós \\n▁ xxup d7m(9 ) \\n xxup só eu que pensei na gente \\n▁ xxup g7 m f # m7 xxup g7 m \\n xxmaj ainda que demorei pra terminar , dói \\n▁ xxmaj bm7 xxup a9 \\n xxmaj não era só comigo que você ficava \\n▁ xxup g7 m d / f # f</td>\n",
       "      <td>samba-e-pagode</td>\n",
       "    </tr>\n",
       "    <tr>\n",
       "      <th>4</th>\n",
       "      <td>xxbos xxmaj intro : f xxmaj gm c xxmaj dm \\n\\n [ verso 1 ] \\n▁ xxmaj gm \\n xxmaj eu sei que eu me atrasei \\n▁ c f \\n xxmaj desculpa eu vacilei , pode dizer \\n▁ xxmaj dm \\n xxmaj eu só vou ouvir porque \\n\\n▁ xxmaj gm c \\n xxmaj ultimamente , você anda carente \\n▁ f \\n xxmaj diz que só foi mais uma \\n▁ xxmaj dm \\n xxmaj das mancadas que eu dei \\n\\n [ verso 2 ] \\n▁ xxmaj gm c \\n xxmaj pensando bem , são xxunk de um fim \\n▁ f xxmaj dm \\n xxmaj parece o limite , qualquer coisa é pretexto aqui \\n▁ xxmaj gm c \\n xxmaj uns minutos de espera , você vira uma fera \\n▁ f xxup f7 \\n e diz que não confia em mim \\n\\n [ pré - refrão ] \\n▁ xxmaj gm \\n xxmaj</td>\n",
       "      <td>sertanejo</td>\n",
       "    </tr>\n",
       "    <tr>\n",
       "      <th>5</th>\n",
       "      <td>xxbos xxmaj parte 1 c # m b a e \\n▁ c # m b e a \\n\\n ( guitarra 1 ) \\n\\n▁ c # m b a e \\n xxup e| xxrep 30 - | \\n xxup b|-5 - 5 - 5 - 5 - 4 - 4 - 4 - 4 - 2 - 2 - 2 - 2 - 9 - -9-| \\n xxup g| xxrep 30 - | \\n xxup d|-6 - 6 - 6 - 6 - 4 - 4 - 4 - 4 - 2 - 2 - 2 - 2 - 9 - -9-| \\n xxup a| xxrep 30 - | \\n xxup e| xxrep 30 - | \\n\\n▁ c # m b e a \\n xxup e| xxrep 30 - | \\n xxup b|-5 - 5 - 5 - 5 - 4 - 4 - 4 - 4 - 9 - 9</td>\n",
       "      <td>gospel</td>\n",
       "    </tr>\n",
       "    <tr>\n",
       "      <th>6</th>\n",
       "      <td>xxbos xxmaj abrir tablatura \\n▁\\n▁\\n▁\\n xxup intro \\n▁ e xxrep 49 - \\n▁ b xxrep 49 - \\n▁ g xxrep 49 - \\n▁ d xxrep 12 - 2 xxrep 5 - 2 xxrep 3 - 2 xxrep 12 - 2 xxrep 5 - 2 xxrep 3 - 2 xxrep 3 - \\n▁ a xxrep 12 - 3 xxrep 5 - 3 xxrep 3 - 3 xxrep 12 - 5 xxrep 5 - 5 xxrep 3 - 5 xxrep 3 - \\n▁ e -0 - 3 - 5 - -5 - 5 - 5 - 5 - 5 - 5 - 5 - 5 - -0 - 5 - 3 - 3 - 3 - 3 - 3 - 3 - 3 - 3 - 3 xxrep 3 - \\n\\n xxup riff 1 \\n▁ e xxrep 49 - \\n▁ b xxrep 49 - \\n▁ g xxrep 33 - 7 - 7</td>\n",
       "      <td>pop-music</td>\n",
       "    </tr>\n",
       "    <tr>\n",
       "      <th>7</th>\n",
       "      <td>xxbos xxmaj intro d / a a \\n▁ c / a g / a c / a g / a \\n▁ d / a a f / a g / a \\n▁ d / a a \\n▁ c / a g / a c / a g / a \\n▁ f g a g a \\n\\n [ verso 1 ] \\n\\n a a / c # \\n xxmaj este é um tempo de festa \\n▁ d a / c # \\n xxmaj este é um tempo de louvor \\n▁ xxmaj bm xxup e4 a d / f # \\n xxmaj pra celebrar aquele que primeiro nos amou \\n e / g # a g / a \\n xxmaj transformou nosso choro em riso \\n▁ d a / c # f # m \\n xxmaj nos deu novas vestes de louvor \\n▁ g xxup e4 a \\n xxmaj pra celebrar aquele</td>\n",
       "      <td>gospel</td>\n",
       "    </tr>\n",
       "    <tr>\n",
       "      <th>8</th>\n",
       "      <td>xxbos xxmaj intro f # c # d # m a # m \\n▁ b f # g # m7 c # \\n▁ f # c # d # m a # m \\n▁ b f # g # m c # \\n\\n f # \\n xxup lá vai mais um sonhador \\n▁ c # 4 c # \\n xxmaj falavam assim de mim \\n g # m f # b \\n xxmaj ele é só mais um caso comum \\n▁ c # 4 c # \\n xxmaj xxunk meu fim \\n f # \\n xxup lá vai mais um sonhador \\n▁ c # 4 c # \\n xxmaj falavam também de xxmaj josé \\n g # m \\n xxmaj mas xxmaj josé não xxunk \\n f # b \\n xxmaj não reclamou \\n▁ c # 4 c # \\n xxmaj segurou a fé \\n\\n▁ d # m \\n xxmaj</td>\n",
       "      <td>gospel</td>\n",
       "    </tr>\n",
       "  </tbody>\n",
       "</table>"
      ],
      "text/plain": [
       "<IPython.core.display.HTML object>"
      ]
     },
     "metadata": {},
     "output_type": "display_data"
    }
   ],
   "source": [
    "ds_path = Path(new_folder)\n",
    "dls = TextDataLoaders.from_folder(ds_path, valid='test')\n",
    "dls.show_batch()"
   ]
  },
  {
   "cell_type": "markdown",
   "id": "ccc5dfe1",
   "metadata": {},
   "source": [
    "- Learner from FastAI will define the pipeline of training the RNN.\n",
    "- By default for text classification, FastAI uses Long Short-Term Memory Networks (LSTM).\n",
    "- The metric we will use if the accuracy of the model."
   ]
  },
  {
   "cell_type": "code",
   "execution_count": 14,
   "id": "f03b8792",
   "metadata": {},
   "outputs": [
    {
     "data": {
      "text/html": [
       "\n",
       "<style>\n",
       "    /* Turns off some styling */\n",
       "    progress {\n",
       "        /* gets rid of default border in Firefox and Opera. */\n",
       "        border: none;\n",
       "        /* Needs to be in here for Safari polyfill so background images work as expected. */\n",
       "        background-size: auto;\n",
       "    }\n",
       "    progress:not([value]), progress:not([value])::-webkit-progress-bar {\n",
       "        background: repeating-linear-gradient(45deg, #7e7e7e, #7e7e7e 10px, #5c5c5c 10px, #5c5c5c 20px);\n",
       "    }\n",
       "    .progress-bar-interrupted, .progress-bar-interrupted::-webkit-progress-bar {\n",
       "        background: #F44336;\n",
       "    }\n",
       "</style>\n"
      ],
      "text/plain": [
       "<IPython.core.display.HTML object>"
      ]
     },
     "metadata": {},
     "output_type": "display_data"
    },
    {
     "data": {
      "text/html": [
       "\n",
       "    <div>\n",
       "      <progress value='105070592' class='' max='105067061' style='width:300px; height:20px; vertical-align: middle;'></progress>\n",
       "      100.00% [105070592/105067061 04:12&lt;00:00]\n",
       "    </div>\n",
       "    "
      ],
      "text/plain": [
       "<IPython.core.display.HTML object>"
      ]
     },
     "metadata": {},
     "output_type": "display_data"
    }
   ],
   "source": [
    "learn = text_classifier_learner(dls, AWD_LSTM, drop_mult=0.5, metrics=accuracy)"
   ]
  },
  {
   "cell_type": "code",
   "execution_count": null,
   "id": "bf557a83",
   "metadata": {},
   "outputs": [
    {
     "name": "stderr",
     "output_type": "stream",
     "text": [
      "/home/ymarca/anaconda3/envs/deeplearning/lib/python3.8/site-packages/fastai/torch_core.py:263: UserWarning: 'has_mps' is deprecated, please use 'torch.backends.mps.is_built()'\n",
      "  return getattr(torch, 'has_mps', False)\n"
     ]
    },
    {
     "data": {
      "text/html": [
       "\n",
       "<style>\n",
       "    /* Turns off some styling */\n",
       "    progress {\n",
       "        /* gets rid of default border in Firefox and Opera. */\n",
       "        border: none;\n",
       "        /* Needs to be in here for Safari polyfill so background images work as expected. */\n",
       "        background-size: auto;\n",
       "    }\n",
       "    progress:not([value]), progress:not([value])::-webkit-progress-bar {\n",
       "        background: repeating-linear-gradient(45deg, #7e7e7e, #7e7e7e 10px, #5c5c5c 10px, #5c5c5c 20px);\n",
       "    }\n",
       "    .progress-bar-interrupted, .progress-bar-interrupted::-webkit-progress-bar {\n",
       "        background: #F44336;\n",
       "    }\n",
       "</style>\n"
      ],
      "text/plain": [
       "<IPython.core.display.HTML object>"
      ]
     },
     "metadata": {},
     "output_type": "display_data"
    },
    {
     "data": {
      "text/html": [
       "\n",
       "    <div>\n",
       "      <progress value='0' class='' max='1' style='width:300px; height:20px; vertical-align: middle;'></progress>\n",
       "      0.00% [0/1 00:00&lt;?]\n",
       "    </div>\n",
       "    \n",
       "<table border=\"1\" class=\"dataframe\">\n",
       "  <thead>\n",
       "    <tr style=\"text-align: left;\">\n",
       "      <th>epoch</th>\n",
       "      <th>train_loss</th>\n",
       "      <th>valid_loss</th>\n",
       "      <th>accuracy</th>\n",
       "      <th>time</th>\n",
       "    </tr>\n",
       "  </thead>\n",
       "  <tbody>\n",
       "  </tbody>\n",
       "</table><p>\n",
       "\n",
       "    <div>\n",
       "      <progress value='25' class='' max='33' style='width:300px; height:20px; vertical-align: middle;'></progress>\n",
       "      75.76% [25/33 04:10&lt;01:20 1.7695]\n",
       "    </div>\n",
       "    "
      ],
      "text/plain": [
       "<IPython.core.display.HTML object>"
      ]
     },
     "metadata": {},
     "output_type": "display_data"
    },
    {
     "name": "stderr",
     "output_type": "stream",
     "text": [
      "/home/ymarca/anaconda3/envs/deeplearning/lib/python3.8/site-packages/fastai/torch_core.py:263: UserWarning: 'has_mps' is deprecated, please use 'torch.backends.mps.is_built()'\n",
      "  return getattr(torch, 'has_mps', False)\n",
      "/home/ymarca/anaconda3/envs/deeplearning/lib/python3.8/site-packages/fastai/torch_core.py:263: UserWarning: 'has_mps' is deprecated, please use 'torch.backends.mps.is_built()'\n",
      "  return getattr(torch, 'has_mps', False)\n",
      "/home/ymarca/anaconda3/envs/deeplearning/lib/python3.8/site-packages/fastai/torch_core.py:263: UserWarning: 'has_mps' is deprecated, please use 'torch.backends.mps.is_built()'\n",
      "  return getattr(torch, 'has_mps', False)\n",
      "/home/ymarca/anaconda3/envs/deeplearning/lib/python3.8/site-packages/fastai/torch_core.py:263: UserWarning: 'has_mps' is deprecated, please use 'torch.backends.mps.is_built()'\n",
      "  return getattr(torch, 'has_mps', False)\n",
      "/home/ymarca/anaconda3/envs/deeplearning/lib/python3.8/site-packages/fastai/torch_core.py:263: UserWarning: 'has_mps' is deprecated, please use 'torch.backends.mps.is_built()'\n",
      "  return getattr(torch, 'has_mps', False)\n",
      "/home/ymarca/anaconda3/envs/deeplearning/lib/python3.8/site-packages/fastai/torch_core.py:263: UserWarning: 'has_mps' is deprecated, please use 'torch.backends.mps.is_built()'\n",
      "  return getattr(torch, 'has_mps', False)\n",
      "/home/ymarca/anaconda3/envs/deeplearning/lib/python3.8/site-packages/fastai/torch_core.py:263: UserWarning: 'has_mps' is deprecated, please use 'torch.backends.mps.is_built()'\n",
      "  return getattr(torch, 'has_mps', False)\n",
      "/home/ymarca/anaconda3/envs/deeplearning/lib/python3.8/site-packages/fastai/torch_core.py:263: UserWarning: 'has_mps' is deprecated, please use 'torch.backends.mps.is_built()'\n",
      "  return getattr(torch, 'has_mps', False)\n",
      "/home/ymarca/anaconda3/envs/deeplearning/lib/python3.8/site-packages/fastai/torch_core.py:263: UserWarning: 'has_mps' is deprecated, please use 'torch.backends.mps.is_built()'\n",
      "  return getattr(torch, 'has_mps', False)\n",
      "/home/ymarca/anaconda3/envs/deeplearning/lib/python3.8/site-packages/fastai/torch_core.py:263: UserWarning: 'has_mps' is deprecated, please use 'torch.backends.mps.is_built()'\n",
      "  return getattr(torch, 'has_mps', False)\n",
      "/home/ymarca/anaconda3/envs/deeplearning/lib/python3.8/site-packages/fastai/torch_core.py:263: UserWarning: 'has_mps' is deprecated, please use 'torch.backends.mps.is_built()'\n",
      "  return getattr(torch, 'has_mps', False)\n",
      "/home/ymarca/anaconda3/envs/deeplearning/lib/python3.8/site-packages/fastai/torch_core.py:263: UserWarning: 'has_mps' is deprecated, please use 'torch.backends.mps.is_built()'\n",
      "  return getattr(torch, 'has_mps', False)\n",
      "/home/ymarca/anaconda3/envs/deeplearning/lib/python3.8/site-packages/fastai/torch_core.py:263: UserWarning: 'has_mps' is deprecated, please use 'torch.backends.mps.is_built()'\n",
      "  return getattr(torch, 'has_mps', False)\n",
      "/home/ymarca/anaconda3/envs/deeplearning/lib/python3.8/site-packages/fastai/torch_core.py:263: UserWarning: 'has_mps' is deprecated, please use 'torch.backends.mps.is_built()'\n",
      "  return getattr(torch, 'has_mps', False)\n",
      "/home/ymarca/anaconda3/envs/deeplearning/lib/python3.8/site-packages/fastai/torch_core.py:263: UserWarning: 'has_mps' is deprecated, please use 'torch.backends.mps.is_built()'\n",
      "  return getattr(torch, 'has_mps', False)\n",
      "/home/ymarca/anaconda3/envs/deeplearning/lib/python3.8/site-packages/fastai/torch_core.py:263: UserWarning: 'has_mps' is deprecated, please use 'torch.backends.mps.is_built()'\n",
      "  return getattr(torch, 'has_mps', False)\n",
      "/home/ymarca/anaconda3/envs/deeplearning/lib/python3.8/site-packages/fastai/torch_core.py:263: UserWarning: 'has_mps' is deprecated, please use 'torch.backends.mps.is_built()'\n",
      "  return getattr(torch, 'has_mps', False)\n",
      "/home/ymarca/anaconda3/envs/deeplearning/lib/python3.8/site-packages/fastai/torch_core.py:263: UserWarning: 'has_mps' is deprecated, please use 'torch.backends.mps.is_built()'\n",
      "  return getattr(torch, 'has_mps', False)\n",
      "/home/ymarca/anaconda3/envs/deeplearning/lib/python3.8/site-packages/fastai/torch_core.py:263: UserWarning: 'has_mps' is deprecated, please use 'torch.backends.mps.is_built()'\n",
      "  return getattr(torch, 'has_mps', False)\n",
      "/home/ymarca/anaconda3/envs/deeplearning/lib/python3.8/site-packages/fastai/torch_core.py:263: UserWarning: 'has_mps' is deprecated, please use 'torch.backends.mps.is_built()'\n",
      "  return getattr(torch, 'has_mps', False)\n",
      "/home/ymarca/anaconda3/envs/deeplearning/lib/python3.8/site-packages/fastai/torch_core.py:263: UserWarning: 'has_mps' is deprecated, please use 'torch.backends.mps.is_built()'\n",
      "  return getattr(torch, 'has_mps', False)\n",
      "/home/ymarca/anaconda3/envs/deeplearning/lib/python3.8/site-packages/fastai/torch_core.py:263: UserWarning: 'has_mps' is deprecated, please use 'torch.backends.mps.is_built()'\n",
      "  return getattr(torch, 'has_mps', False)\n",
      "/home/ymarca/anaconda3/envs/deeplearning/lib/python3.8/site-packages/fastai/torch_core.py:263: UserWarning: 'has_mps' is deprecated, please use 'torch.backends.mps.is_built()'\n",
      "  return getattr(torch, 'has_mps', False)\n",
      "/home/ymarca/anaconda3/envs/deeplearning/lib/python3.8/site-packages/fastai/torch_core.py:263: UserWarning: 'has_mps' is deprecated, please use 'torch.backends.mps.is_built()'\n",
      "  return getattr(torch, 'has_mps', False)\n",
      "/home/ymarca/anaconda3/envs/deeplearning/lib/python3.8/site-packages/fastai/torch_core.py:263: UserWarning: 'has_mps' is deprecated, please use 'torch.backends.mps.is_built()'\n",
      "  return getattr(torch, 'has_mps', False)\n",
      "/home/ymarca/anaconda3/envs/deeplearning/lib/python3.8/site-packages/fastai/torch_core.py:263: UserWarning: 'has_mps' is deprecated, please use 'torch.backends.mps.is_built()'\n",
      "  return getattr(torch, 'has_mps', False)\n",
      "/home/ymarca/anaconda3/envs/deeplearning/lib/python3.8/site-packages/fastai/torch_core.py:263: UserWarning: 'has_mps' is deprecated, please use 'torch.backends.mps.is_built()'\n",
      "  return getattr(torch, 'has_mps', False)\n",
      "/home/ymarca/anaconda3/envs/deeplearning/lib/python3.8/site-packages/fastai/torch_core.py:263: UserWarning: 'has_mps' is deprecated, please use 'torch.backends.mps.is_built()'\n",
      "  return getattr(torch, 'has_mps', False)\n",
      "/home/ymarca/anaconda3/envs/deeplearning/lib/python3.8/site-packages/fastai/torch_core.py:263: UserWarning: 'has_mps' is deprecated, please use 'torch.backends.mps.is_built()'\n",
      "  return getattr(torch, 'has_mps', False)\n",
      "/home/ymarca/anaconda3/envs/deeplearning/lib/python3.8/site-packages/fastai/torch_core.py:263: UserWarning: 'has_mps' is deprecated, please use 'torch.backends.mps.is_built()'\n",
      "  return getattr(torch, 'has_mps', False)\n",
      "/home/ymarca/anaconda3/envs/deeplearning/lib/python3.8/site-packages/fastai/torch_core.py:263: UserWarning: 'has_mps' is deprecated, please use 'torch.backends.mps.is_built()'\n",
      "  return getattr(torch, 'has_mps', False)\n",
      "/home/ymarca/anaconda3/envs/deeplearning/lib/python3.8/site-packages/fastai/torch_core.py:263: UserWarning: 'has_mps' is deprecated, please use 'torch.backends.mps.is_built()'\n",
      "  return getattr(torch, 'has_mps', False)\n",
      "/home/ymarca/anaconda3/envs/deeplearning/lib/python3.8/site-packages/fastai/torch_core.py:263: UserWarning: 'has_mps' is deprecated, please use 'torch.backends.mps.is_built()'\n",
      "  return getattr(torch, 'has_mps', False)\n",
      "/home/ymarca/anaconda3/envs/deeplearning/lib/python3.8/site-packages/fastai/torch_core.py:263: UserWarning: 'has_mps' is deprecated, please use 'torch.backends.mps.is_built()'\n",
      "  return getattr(torch, 'has_mps', False)\n",
      "/home/ymarca/anaconda3/envs/deeplearning/lib/python3.8/site-packages/fastai/torch_core.py:263: UserWarning: 'has_mps' is deprecated, please use 'torch.backends.mps.is_built()'\n",
      "  return getattr(torch, 'has_mps', False)\n",
      "/home/ymarca/anaconda3/envs/deeplearning/lib/python3.8/site-packages/fastai/torch_core.py:263: UserWarning: 'has_mps' is deprecated, please use 'torch.backends.mps.is_built()'\n",
      "  return getattr(torch, 'has_mps', False)\n",
      "/home/ymarca/anaconda3/envs/deeplearning/lib/python3.8/site-packages/fastai/torch_core.py:263: UserWarning: 'has_mps' is deprecated, please use 'torch.backends.mps.is_built()'\n",
      "  return getattr(torch, 'has_mps', False)\n",
      "/home/ymarca/anaconda3/envs/deeplearning/lib/python3.8/site-packages/fastai/torch_core.py:263: UserWarning: 'has_mps' is deprecated, please use 'torch.backends.mps.is_built()'\n",
      "  return getattr(torch, 'has_mps', False)\n"
     ]
    },
    {
     "name": "stderr",
     "output_type": "stream",
     "text": [
      "/home/ymarca/anaconda3/envs/deeplearning/lib/python3.8/site-packages/fastai/torch_core.py:263: UserWarning: 'has_mps' is deprecated, please use 'torch.backends.mps.is_built()'\n",
      "  return getattr(torch, 'has_mps', False)\n",
      "/home/ymarca/anaconda3/envs/deeplearning/lib/python3.8/site-packages/fastai/torch_core.py:263: UserWarning: 'has_mps' is deprecated, please use 'torch.backends.mps.is_built()'\n",
      "  return getattr(torch, 'has_mps', False)\n",
      "/home/ymarca/anaconda3/envs/deeplearning/lib/python3.8/site-packages/fastai/torch_core.py:263: UserWarning: 'has_mps' is deprecated, please use 'torch.backends.mps.is_built()'\n",
      "  return getattr(torch, 'has_mps', False)\n",
      "/home/ymarca/anaconda3/envs/deeplearning/lib/python3.8/site-packages/fastai/torch_core.py:263: UserWarning: 'has_mps' is deprecated, please use 'torch.backends.mps.is_built()'\n",
      "  return getattr(torch, 'has_mps', False)\n",
      "/home/ymarca/anaconda3/envs/deeplearning/lib/python3.8/site-packages/fastai/torch_core.py:263: UserWarning: 'has_mps' is deprecated, please use 'torch.backends.mps.is_built()'\n",
      "  return getattr(torch, 'has_mps', False)\n",
      "/home/ymarca/anaconda3/envs/deeplearning/lib/python3.8/site-packages/fastai/torch_core.py:263: UserWarning: 'has_mps' is deprecated, please use 'torch.backends.mps.is_built()'\n",
      "  return getattr(torch, 'has_mps', False)\n",
      "/home/ymarca/anaconda3/envs/deeplearning/lib/python3.8/site-packages/fastai/torch_core.py:263: UserWarning: 'has_mps' is deprecated, please use 'torch.backends.mps.is_built()'\n",
      "  return getattr(torch, 'has_mps', False)\n",
      "/home/ymarca/anaconda3/envs/deeplearning/lib/python3.8/site-packages/fastai/torch_core.py:263: UserWarning: 'has_mps' is deprecated, please use 'torch.backends.mps.is_built()'\n",
      "  return getattr(torch, 'has_mps', False)\n",
      "/home/ymarca/anaconda3/envs/deeplearning/lib/python3.8/site-packages/fastai/torch_core.py:263: UserWarning: 'has_mps' is deprecated, please use 'torch.backends.mps.is_built()'\n",
      "  return getattr(torch, 'has_mps', False)\n",
      "/home/ymarca/anaconda3/envs/deeplearning/lib/python3.8/site-packages/fastai/torch_core.py:263: UserWarning: 'has_mps' is deprecated, please use 'torch.backends.mps.is_built()'\n",
      "  return getattr(torch, 'has_mps', False)\n",
      "/home/ymarca/anaconda3/envs/deeplearning/lib/python3.8/site-packages/fastai/torch_core.py:263: UserWarning: 'has_mps' is deprecated, please use 'torch.backends.mps.is_built()'\n",
      "  return getattr(torch, 'has_mps', False)\n",
      "/home/ymarca/anaconda3/envs/deeplearning/lib/python3.8/site-packages/fastai/torch_core.py:263: UserWarning: 'has_mps' is deprecated, please use 'torch.backends.mps.is_built()'\n",
      "  return getattr(torch, 'has_mps', False)\n",
      "/home/ymarca/anaconda3/envs/deeplearning/lib/python3.8/site-packages/fastai/torch_core.py:263: UserWarning: 'has_mps' is deprecated, please use 'torch.backends.mps.is_built()'\n",
      "  return getattr(torch, 'has_mps', False)\n",
      "/home/ymarca/anaconda3/envs/deeplearning/lib/python3.8/site-packages/fastai/torch_core.py:263: UserWarning: 'has_mps' is deprecated, please use 'torch.backends.mps.is_built()'\n",
      "  return getattr(torch, 'has_mps', False)\n",
      "/home/ymarca/anaconda3/envs/deeplearning/lib/python3.8/site-packages/fastai/torch_core.py:263: UserWarning: 'has_mps' is deprecated, please use 'torch.backends.mps.is_built()'\n",
      "  return getattr(torch, 'has_mps', False)\n",
      "/home/ymarca/anaconda3/envs/deeplearning/lib/python3.8/site-packages/fastai/torch_core.py:263: UserWarning: 'has_mps' is deprecated, please use 'torch.backends.mps.is_built()'\n",
      "  return getattr(torch, 'has_mps', False)\n",
      "/home/ymarca/anaconda3/envs/deeplearning/lib/python3.8/site-packages/fastai/torch_core.py:263: UserWarning: 'has_mps' is deprecated, please use 'torch.backends.mps.is_built()'\n",
      "  return getattr(torch, 'has_mps', False)\n",
      "/home/ymarca/anaconda3/envs/deeplearning/lib/python3.8/site-packages/fastai/torch_core.py:263: UserWarning: 'has_mps' is deprecated, please use 'torch.backends.mps.is_built()'\n",
      "  return getattr(torch, 'has_mps', False)\n",
      "/home/ymarca/anaconda3/envs/deeplearning/lib/python3.8/site-packages/fastai/torch_core.py:263: UserWarning: 'has_mps' is deprecated, please use 'torch.backends.mps.is_built()'\n",
      "  return getattr(torch, 'has_mps', False)\n",
      "/home/ymarca/anaconda3/envs/deeplearning/lib/python3.8/site-packages/fastai/torch_core.py:263: UserWarning: 'has_mps' is deprecated, please use 'torch.backends.mps.is_built()'\n",
      "  return getattr(torch, 'has_mps', False)\n",
      "/home/ymarca/anaconda3/envs/deeplearning/lib/python3.8/site-packages/fastai/torch_core.py:263: UserWarning: 'has_mps' is deprecated, please use 'torch.backends.mps.is_built()'\n",
      "  return getattr(torch, 'has_mps', False)\n",
      "/home/ymarca/anaconda3/envs/deeplearning/lib/python3.8/site-packages/fastai/torch_core.py:263: UserWarning: 'has_mps' is deprecated, please use 'torch.backends.mps.is_built()'\n",
      "  return getattr(torch, 'has_mps', False)\n",
      "/home/ymarca/anaconda3/envs/deeplearning/lib/python3.8/site-packages/fastai/torch_core.py:263: UserWarning: 'has_mps' is deprecated, please use 'torch.backends.mps.is_built()'\n",
      "  return getattr(torch, 'has_mps', False)\n",
      "/home/ymarca/anaconda3/envs/deeplearning/lib/python3.8/site-packages/fastai/torch_core.py:263: UserWarning: 'has_mps' is deprecated, please use 'torch.backends.mps.is_built()'\n",
      "  return getattr(torch, 'has_mps', False)\n",
      "/home/ymarca/anaconda3/envs/deeplearning/lib/python3.8/site-packages/fastai/torch_core.py:263: UserWarning: 'has_mps' is deprecated, please use 'torch.backends.mps.is_built()'\n",
      "  return getattr(torch, 'has_mps', False)\n",
      "/home/ymarca/anaconda3/envs/deeplearning/lib/python3.8/site-packages/fastai/torch_core.py:263: UserWarning: 'has_mps' is deprecated, please use 'torch.backends.mps.is_built()'\n",
      "  return getattr(torch, 'has_mps', False)\n",
      "/home/ymarca/anaconda3/envs/deeplearning/lib/python3.8/site-packages/fastai/torch_core.py:263: UserWarning: 'has_mps' is deprecated, please use 'torch.backends.mps.is_built()'\n",
      "  return getattr(torch, 'has_mps', False)\n",
      "/home/ymarca/anaconda3/envs/deeplearning/lib/python3.8/site-packages/fastai/torch_core.py:263: UserWarning: 'has_mps' is deprecated, please use 'torch.backends.mps.is_built()'\n",
      "  return getattr(torch, 'has_mps', False)\n",
      "/home/ymarca/anaconda3/envs/deeplearning/lib/python3.8/site-packages/fastai/torch_core.py:263: UserWarning: 'has_mps' is deprecated, please use 'torch.backends.mps.is_built()'\n",
      "  return getattr(torch, 'has_mps', False)\n",
      "/home/ymarca/anaconda3/envs/deeplearning/lib/python3.8/site-packages/fastai/torch_core.py:263: UserWarning: 'has_mps' is deprecated, please use 'torch.backends.mps.is_built()'\n",
      "  return getattr(torch, 'has_mps', False)\n",
      "/home/ymarca/anaconda3/envs/deeplearning/lib/python3.8/site-packages/fastai/torch_core.py:263: UserWarning: 'has_mps' is deprecated, please use 'torch.backends.mps.is_built()'\n",
      "  return getattr(torch, 'has_mps', False)\n",
      "/home/ymarca/anaconda3/envs/deeplearning/lib/python3.8/site-packages/fastai/torch_core.py:263: UserWarning: 'has_mps' is deprecated, please use 'torch.backends.mps.is_built()'\n",
      "  return getattr(torch, 'has_mps', False)\n",
      "/home/ymarca/anaconda3/envs/deeplearning/lib/python3.8/site-packages/fastai/torch_core.py:263: UserWarning: 'has_mps' is deprecated, please use 'torch.backends.mps.is_built()'\n",
      "  return getattr(torch, 'has_mps', False)\n",
      "/home/ymarca/anaconda3/envs/deeplearning/lib/python3.8/site-packages/fastai/torch_core.py:263: UserWarning: 'has_mps' is deprecated, please use 'torch.backends.mps.is_built()'\n",
      "  return getattr(torch, 'has_mps', False)\n",
      "/home/ymarca/anaconda3/envs/deeplearning/lib/python3.8/site-packages/fastai/torch_core.py:263: UserWarning: 'has_mps' is deprecated, please use 'torch.backends.mps.is_built()'\n",
      "  return getattr(torch, 'has_mps', False)\n",
      "/home/ymarca/anaconda3/envs/deeplearning/lib/python3.8/site-packages/fastai/torch_core.py:263: UserWarning: 'has_mps' is deprecated, please use 'torch.backends.mps.is_built()'\n",
      "  return getattr(torch, 'has_mps', False)\n",
      "/home/ymarca/anaconda3/envs/deeplearning/lib/python3.8/site-packages/fastai/torch_core.py:263: UserWarning: 'has_mps' is deprecated, please use 'torch.backends.mps.is_built()'\n",
      "  return getattr(torch, 'has_mps', False)\n",
      "/home/ymarca/anaconda3/envs/deeplearning/lib/python3.8/site-packages/fastai/torch_core.py:263: UserWarning: 'has_mps' is deprecated, please use 'torch.backends.mps.is_built()'\n",
      "  return getattr(torch, 'has_mps', False)\n"
     ]
    },
    {
     "name": "stderr",
     "output_type": "stream",
     "text": [
      "/home/ymarca/anaconda3/envs/deeplearning/lib/python3.8/site-packages/fastai/torch_core.py:263: UserWarning: 'has_mps' is deprecated, please use 'torch.backends.mps.is_built()'\n",
      "  return getattr(torch, 'has_mps', False)\n",
      "/home/ymarca/anaconda3/envs/deeplearning/lib/python3.8/site-packages/fastai/torch_core.py:263: UserWarning: 'has_mps' is deprecated, please use 'torch.backends.mps.is_built()'\n",
      "  return getattr(torch, 'has_mps', False)\n",
      "/home/ymarca/anaconda3/envs/deeplearning/lib/python3.8/site-packages/fastai/torch_core.py:263: UserWarning: 'has_mps' is deprecated, please use 'torch.backends.mps.is_built()'\n",
      "  return getattr(torch, 'has_mps', False)\n",
      "/home/ymarca/anaconda3/envs/deeplearning/lib/python3.8/site-packages/fastai/torch_core.py:263: UserWarning: 'has_mps' is deprecated, please use 'torch.backends.mps.is_built()'\n",
      "  return getattr(torch, 'has_mps', False)\n",
      "/home/ymarca/anaconda3/envs/deeplearning/lib/python3.8/site-packages/fastai/torch_core.py:263: UserWarning: 'has_mps' is deprecated, please use 'torch.backends.mps.is_built()'\n",
      "  return getattr(torch, 'has_mps', False)\n",
      "/home/ymarca/anaconda3/envs/deeplearning/lib/python3.8/site-packages/fastai/torch_core.py:263: UserWarning: 'has_mps' is deprecated, please use 'torch.backends.mps.is_built()'\n",
      "  return getattr(torch, 'has_mps', False)\n",
      "/home/ymarca/anaconda3/envs/deeplearning/lib/python3.8/site-packages/fastai/torch_core.py:263: UserWarning: 'has_mps' is deprecated, please use 'torch.backends.mps.is_built()'\n",
      "  return getattr(torch, 'has_mps', False)\n",
      "/home/ymarca/anaconda3/envs/deeplearning/lib/python3.8/site-packages/fastai/torch_core.py:263: UserWarning: 'has_mps' is deprecated, please use 'torch.backends.mps.is_built()'\n",
      "  return getattr(torch, 'has_mps', False)\n",
      "/home/ymarca/anaconda3/envs/deeplearning/lib/python3.8/site-packages/fastai/torch_core.py:263: UserWarning: 'has_mps' is deprecated, please use 'torch.backends.mps.is_built()'\n",
      "  return getattr(torch, 'has_mps', False)\n",
      "/home/ymarca/anaconda3/envs/deeplearning/lib/python3.8/site-packages/fastai/torch_core.py:263: UserWarning: 'has_mps' is deprecated, please use 'torch.backends.mps.is_built()'\n",
      "  return getattr(torch, 'has_mps', False)\n",
      "/home/ymarca/anaconda3/envs/deeplearning/lib/python3.8/site-packages/fastai/torch_core.py:263: UserWarning: 'has_mps' is deprecated, please use 'torch.backends.mps.is_built()'\n",
      "  return getattr(torch, 'has_mps', False)\n",
      "/home/ymarca/anaconda3/envs/deeplearning/lib/python3.8/site-packages/fastai/torch_core.py:263: UserWarning: 'has_mps' is deprecated, please use 'torch.backends.mps.is_built()'\n",
      "  return getattr(torch, 'has_mps', False)\n",
      "/home/ymarca/anaconda3/envs/deeplearning/lib/python3.8/site-packages/fastai/torch_core.py:263: UserWarning: 'has_mps' is deprecated, please use 'torch.backends.mps.is_built()'\n",
      "  return getattr(torch, 'has_mps', False)\n",
      "/home/ymarca/anaconda3/envs/deeplearning/lib/python3.8/site-packages/fastai/torch_core.py:263: UserWarning: 'has_mps' is deprecated, please use 'torch.backends.mps.is_built()'\n",
      "  return getattr(torch, 'has_mps', False)\n",
      "/home/ymarca/anaconda3/envs/deeplearning/lib/python3.8/site-packages/fastai/torch_core.py:263: UserWarning: 'has_mps' is deprecated, please use 'torch.backends.mps.is_built()'\n",
      "  return getattr(torch, 'has_mps', False)\n",
      "/home/ymarca/anaconda3/envs/deeplearning/lib/python3.8/site-packages/fastai/torch_core.py:263: UserWarning: 'has_mps' is deprecated, please use 'torch.backends.mps.is_built()'\n",
      "  return getattr(torch, 'has_mps', False)\n",
      "/home/ymarca/anaconda3/envs/deeplearning/lib/python3.8/site-packages/fastai/torch_core.py:263: UserWarning: 'has_mps' is deprecated, please use 'torch.backends.mps.is_built()'\n",
      "  return getattr(torch, 'has_mps', False)\n",
      "/home/ymarca/anaconda3/envs/deeplearning/lib/python3.8/site-packages/fastai/torch_core.py:263: UserWarning: 'has_mps' is deprecated, please use 'torch.backends.mps.is_built()'\n",
      "  return getattr(torch, 'has_mps', False)\n",
      "/home/ymarca/anaconda3/envs/deeplearning/lib/python3.8/site-packages/fastai/torch_core.py:263: UserWarning: 'has_mps' is deprecated, please use 'torch.backends.mps.is_built()'\n",
      "  return getattr(torch, 'has_mps', False)\n",
      "/home/ymarca/anaconda3/envs/deeplearning/lib/python3.8/site-packages/fastai/torch_core.py:263: UserWarning: 'has_mps' is deprecated, please use 'torch.backends.mps.is_built()'\n",
      "  return getattr(torch, 'has_mps', False)\n",
      "/home/ymarca/anaconda3/envs/deeplearning/lib/python3.8/site-packages/fastai/torch_core.py:263: UserWarning: 'has_mps' is deprecated, please use 'torch.backends.mps.is_built()'\n",
      "  return getattr(torch, 'has_mps', False)\n",
      "/home/ymarca/anaconda3/envs/deeplearning/lib/python3.8/site-packages/fastai/torch_core.py:263: UserWarning: 'has_mps' is deprecated, please use 'torch.backends.mps.is_built()'\n",
      "  return getattr(torch, 'has_mps', False)\n",
      "/home/ymarca/anaconda3/envs/deeplearning/lib/python3.8/site-packages/fastai/torch_core.py:263: UserWarning: 'has_mps' is deprecated, please use 'torch.backends.mps.is_built()'\n",
      "  return getattr(torch, 'has_mps', False)\n",
      "/home/ymarca/anaconda3/envs/deeplearning/lib/python3.8/site-packages/fastai/torch_core.py:263: UserWarning: 'has_mps' is deprecated, please use 'torch.backends.mps.is_built()'\n",
      "  return getattr(torch, 'has_mps', False)\n",
      "/home/ymarca/anaconda3/envs/deeplearning/lib/python3.8/site-packages/fastai/torch_core.py:263: UserWarning: 'has_mps' is deprecated, please use 'torch.backends.mps.is_built()'\n",
      "  return getattr(torch, 'has_mps', False)\n",
      "/home/ymarca/anaconda3/envs/deeplearning/lib/python3.8/site-packages/fastai/torch_core.py:263: UserWarning: 'has_mps' is deprecated, please use 'torch.backends.mps.is_built()'\n",
      "  return getattr(torch, 'has_mps', False)\n",
      "/home/ymarca/anaconda3/envs/deeplearning/lib/python3.8/site-packages/fastai/torch_core.py:263: UserWarning: 'has_mps' is deprecated, please use 'torch.backends.mps.is_built()'\n",
      "  return getattr(torch, 'has_mps', False)\n",
      "/home/ymarca/anaconda3/envs/deeplearning/lib/python3.8/site-packages/fastai/torch_core.py:263: UserWarning: 'has_mps' is deprecated, please use 'torch.backends.mps.is_built()'\n",
      "  return getattr(torch, 'has_mps', False)\n",
      "/home/ymarca/anaconda3/envs/deeplearning/lib/python3.8/site-packages/fastai/torch_core.py:263: UserWarning: 'has_mps' is deprecated, please use 'torch.backends.mps.is_built()'\n",
      "  return getattr(torch, 'has_mps', False)\n",
      "/home/ymarca/anaconda3/envs/deeplearning/lib/python3.8/site-packages/fastai/torch_core.py:263: UserWarning: 'has_mps' is deprecated, please use 'torch.backends.mps.is_built()'\n",
      "  return getattr(torch, 'has_mps', False)\n",
      "/home/ymarca/anaconda3/envs/deeplearning/lib/python3.8/site-packages/fastai/torch_core.py:263: UserWarning: 'has_mps' is deprecated, please use 'torch.backends.mps.is_built()'\n",
      "  return getattr(torch, 'has_mps', False)\n",
      "/home/ymarca/anaconda3/envs/deeplearning/lib/python3.8/site-packages/fastai/torch_core.py:263: UserWarning: 'has_mps' is deprecated, please use 'torch.backends.mps.is_built()'\n",
      "  return getattr(torch, 'has_mps', False)\n",
      "/home/ymarca/anaconda3/envs/deeplearning/lib/python3.8/site-packages/fastai/torch_core.py:263: UserWarning: 'has_mps' is deprecated, please use 'torch.backends.mps.is_built()'\n",
      "  return getattr(torch, 'has_mps', False)\n",
      "/home/ymarca/anaconda3/envs/deeplearning/lib/python3.8/site-packages/fastai/torch_core.py:263: UserWarning: 'has_mps' is deprecated, please use 'torch.backends.mps.is_built()'\n",
      "  return getattr(torch, 'has_mps', False)\n",
      "/home/ymarca/anaconda3/envs/deeplearning/lib/python3.8/site-packages/fastai/torch_core.py:263: UserWarning: 'has_mps' is deprecated, please use 'torch.backends.mps.is_built()'\n",
      "  return getattr(torch, 'has_mps', False)\n",
      "/home/ymarca/anaconda3/envs/deeplearning/lib/python3.8/site-packages/fastai/torch_core.py:263: UserWarning: 'has_mps' is deprecated, please use 'torch.backends.mps.is_built()'\n",
      "  return getattr(torch, 'has_mps', False)\n",
      "/home/ymarca/anaconda3/envs/deeplearning/lib/python3.8/site-packages/fastai/torch_core.py:263: UserWarning: 'has_mps' is deprecated, please use 'torch.backends.mps.is_built()'\n",
      "  return getattr(torch, 'has_mps', False)\n",
      "/home/ymarca/anaconda3/envs/deeplearning/lib/python3.8/site-packages/fastai/torch_core.py:263: UserWarning: 'has_mps' is deprecated, please use 'torch.backends.mps.is_built()'\n",
      "  return getattr(torch, 'has_mps', False)\n"
     ]
    },
    {
     "name": "stderr",
     "output_type": "stream",
     "text": [
      "/home/ymarca/anaconda3/envs/deeplearning/lib/python3.8/site-packages/fastai/torch_core.py:263: UserWarning: 'has_mps' is deprecated, please use 'torch.backends.mps.is_built()'\n",
      "  return getattr(torch, 'has_mps', False)\n",
      "/home/ymarca/anaconda3/envs/deeplearning/lib/python3.8/site-packages/fastai/torch_core.py:263: UserWarning: 'has_mps' is deprecated, please use 'torch.backends.mps.is_built()'\n",
      "  return getattr(torch, 'has_mps', False)\n",
      "/home/ymarca/anaconda3/envs/deeplearning/lib/python3.8/site-packages/fastai/torch_core.py:263: UserWarning: 'has_mps' is deprecated, please use 'torch.backends.mps.is_built()'\n",
      "  return getattr(torch, 'has_mps', False)\n",
      "/home/ymarca/anaconda3/envs/deeplearning/lib/python3.8/site-packages/fastai/torch_core.py:263: UserWarning: 'has_mps' is deprecated, please use 'torch.backends.mps.is_built()'\n",
      "  return getattr(torch, 'has_mps', False)\n",
      "/home/ymarca/anaconda3/envs/deeplearning/lib/python3.8/site-packages/fastai/torch_core.py:263: UserWarning: 'has_mps' is deprecated, please use 'torch.backends.mps.is_built()'\n",
      "  return getattr(torch, 'has_mps', False)\n",
      "/home/ymarca/anaconda3/envs/deeplearning/lib/python3.8/site-packages/fastai/torch_core.py:263: UserWarning: 'has_mps' is deprecated, please use 'torch.backends.mps.is_built()'\n",
      "  return getattr(torch, 'has_mps', False)\n",
      "/home/ymarca/anaconda3/envs/deeplearning/lib/python3.8/site-packages/fastai/torch_core.py:263: UserWarning: 'has_mps' is deprecated, please use 'torch.backends.mps.is_built()'\n",
      "  return getattr(torch, 'has_mps', False)\n",
      "/home/ymarca/anaconda3/envs/deeplearning/lib/python3.8/site-packages/fastai/torch_core.py:263: UserWarning: 'has_mps' is deprecated, please use 'torch.backends.mps.is_built()'\n",
      "  return getattr(torch, 'has_mps', False)\n",
      "/home/ymarca/anaconda3/envs/deeplearning/lib/python3.8/site-packages/fastai/torch_core.py:263: UserWarning: 'has_mps' is deprecated, please use 'torch.backends.mps.is_built()'\n",
      "  return getattr(torch, 'has_mps', False)\n",
      "/home/ymarca/anaconda3/envs/deeplearning/lib/python3.8/site-packages/fastai/torch_core.py:263: UserWarning: 'has_mps' is deprecated, please use 'torch.backends.mps.is_built()'\n",
      "  return getattr(torch, 'has_mps', False)\n",
      "/home/ymarca/anaconda3/envs/deeplearning/lib/python3.8/site-packages/fastai/torch_core.py:263: UserWarning: 'has_mps' is deprecated, please use 'torch.backends.mps.is_built()'\n",
      "  return getattr(torch, 'has_mps', False)\n",
      "/home/ymarca/anaconda3/envs/deeplearning/lib/python3.8/site-packages/fastai/torch_core.py:263: UserWarning: 'has_mps' is deprecated, please use 'torch.backends.mps.is_built()'\n",
      "  return getattr(torch, 'has_mps', False)\n",
      "/home/ymarca/anaconda3/envs/deeplearning/lib/python3.8/site-packages/fastai/torch_core.py:263: UserWarning: 'has_mps' is deprecated, please use 'torch.backends.mps.is_built()'\n",
      "  return getattr(torch, 'has_mps', False)\n",
      "/home/ymarca/anaconda3/envs/deeplearning/lib/python3.8/site-packages/fastai/torch_core.py:263: UserWarning: 'has_mps' is deprecated, please use 'torch.backends.mps.is_built()'\n",
      "  return getattr(torch, 'has_mps', False)\n",
      "/home/ymarca/anaconda3/envs/deeplearning/lib/python3.8/site-packages/fastai/torch_core.py:263: UserWarning: 'has_mps' is deprecated, please use 'torch.backends.mps.is_built()'\n",
      "  return getattr(torch, 'has_mps', False)\n",
      "/home/ymarca/anaconda3/envs/deeplearning/lib/python3.8/site-packages/fastai/torch_core.py:263: UserWarning: 'has_mps' is deprecated, please use 'torch.backends.mps.is_built()'\n",
      "  return getattr(torch, 'has_mps', False)\n",
      "/home/ymarca/anaconda3/envs/deeplearning/lib/python3.8/site-packages/fastai/torch_core.py:263: UserWarning: 'has_mps' is deprecated, please use 'torch.backends.mps.is_built()'\n",
      "  return getattr(torch, 'has_mps', False)\n",
      "/home/ymarca/anaconda3/envs/deeplearning/lib/python3.8/site-packages/fastai/torch_core.py:263: UserWarning: 'has_mps' is deprecated, please use 'torch.backends.mps.is_built()'\n",
      "  return getattr(torch, 'has_mps', False)\n",
      "/home/ymarca/anaconda3/envs/deeplearning/lib/python3.8/site-packages/fastai/torch_core.py:263: UserWarning: 'has_mps' is deprecated, please use 'torch.backends.mps.is_built()'\n",
      "  return getattr(torch, 'has_mps', False)\n",
      "/home/ymarca/anaconda3/envs/deeplearning/lib/python3.8/site-packages/fastai/torch_core.py:263: UserWarning: 'has_mps' is deprecated, please use 'torch.backends.mps.is_built()'\n",
      "  return getattr(torch, 'has_mps', False)\n",
      "/home/ymarca/anaconda3/envs/deeplearning/lib/python3.8/site-packages/fastai/torch_core.py:263: UserWarning: 'has_mps' is deprecated, please use 'torch.backends.mps.is_built()'\n",
      "  return getattr(torch, 'has_mps', False)\n",
      "/home/ymarca/anaconda3/envs/deeplearning/lib/python3.8/site-packages/fastai/torch_core.py:263: UserWarning: 'has_mps' is deprecated, please use 'torch.backends.mps.is_built()'\n",
      "  return getattr(torch, 'has_mps', False)\n",
      "/home/ymarca/anaconda3/envs/deeplearning/lib/python3.8/site-packages/fastai/torch_core.py:263: UserWarning: 'has_mps' is deprecated, please use 'torch.backends.mps.is_built()'\n",
      "  return getattr(torch, 'has_mps', False)\n",
      "/home/ymarca/anaconda3/envs/deeplearning/lib/python3.8/site-packages/fastai/torch_core.py:263: UserWarning: 'has_mps' is deprecated, please use 'torch.backends.mps.is_built()'\n",
      "  return getattr(torch, 'has_mps', False)\n",
      "/home/ymarca/anaconda3/envs/deeplearning/lib/python3.8/site-packages/fastai/torch_core.py:263: UserWarning: 'has_mps' is deprecated, please use 'torch.backends.mps.is_built()'\n",
      "  return getattr(torch, 'has_mps', False)\n",
      "/home/ymarca/anaconda3/envs/deeplearning/lib/python3.8/site-packages/fastai/torch_core.py:263: UserWarning: 'has_mps' is deprecated, please use 'torch.backends.mps.is_built()'\n",
      "  return getattr(torch, 'has_mps', False)\n",
      "/home/ymarca/anaconda3/envs/deeplearning/lib/python3.8/site-packages/fastai/torch_core.py:263: UserWarning: 'has_mps' is deprecated, please use 'torch.backends.mps.is_built()'\n",
      "  return getattr(torch, 'has_mps', False)\n",
      "/home/ymarca/anaconda3/envs/deeplearning/lib/python3.8/site-packages/fastai/torch_core.py:263: UserWarning: 'has_mps' is deprecated, please use 'torch.backends.mps.is_built()'\n",
      "  return getattr(torch, 'has_mps', False)\n",
      "/home/ymarca/anaconda3/envs/deeplearning/lib/python3.8/site-packages/fastai/torch_core.py:263: UserWarning: 'has_mps' is deprecated, please use 'torch.backends.mps.is_built()'\n",
      "  return getattr(torch, 'has_mps', False)\n",
      "/home/ymarca/anaconda3/envs/deeplearning/lib/python3.8/site-packages/fastai/torch_core.py:263: UserWarning: 'has_mps' is deprecated, please use 'torch.backends.mps.is_built()'\n",
      "  return getattr(torch, 'has_mps', False)\n",
      "/home/ymarca/anaconda3/envs/deeplearning/lib/python3.8/site-packages/fastai/torch_core.py:263: UserWarning: 'has_mps' is deprecated, please use 'torch.backends.mps.is_built()'\n",
      "  return getattr(torch, 'has_mps', False)\n",
      "/home/ymarca/anaconda3/envs/deeplearning/lib/python3.8/site-packages/fastai/torch_core.py:263: UserWarning: 'has_mps' is deprecated, please use 'torch.backends.mps.is_built()'\n",
      "  return getattr(torch, 'has_mps', False)\n",
      "/home/ymarca/anaconda3/envs/deeplearning/lib/python3.8/site-packages/fastai/torch_core.py:263: UserWarning: 'has_mps' is deprecated, please use 'torch.backends.mps.is_built()'\n",
      "  return getattr(torch, 'has_mps', False)\n",
      "/home/ymarca/anaconda3/envs/deeplearning/lib/python3.8/site-packages/fastai/torch_core.py:263: UserWarning: 'has_mps' is deprecated, please use 'torch.backends.mps.is_built()'\n",
      "  return getattr(torch, 'has_mps', False)\n",
      "/home/ymarca/anaconda3/envs/deeplearning/lib/python3.8/site-packages/fastai/torch_core.py:263: UserWarning: 'has_mps' is deprecated, please use 'torch.backends.mps.is_built()'\n",
      "  return getattr(torch, 'has_mps', False)\n",
      "/home/ymarca/anaconda3/envs/deeplearning/lib/python3.8/site-packages/fastai/torch_core.py:263: UserWarning: 'has_mps' is deprecated, please use 'torch.backends.mps.is_built()'\n",
      "  return getattr(torch, 'has_mps', False)\n",
      "/home/ymarca/anaconda3/envs/deeplearning/lib/python3.8/site-packages/fastai/torch_core.py:263: UserWarning: 'has_mps' is deprecated, please use 'torch.backends.mps.is_built()'\n",
      "  return getattr(torch, 'has_mps', False)\n",
      "/home/ymarca/anaconda3/envs/deeplearning/lib/python3.8/site-packages/fastai/torch_core.py:263: UserWarning: 'has_mps' is deprecated, please use 'torch.backends.mps.is_built()'\n",
      "  return getattr(torch, 'has_mps', False)\n"
     ]
    },
    {
     "name": "stderr",
     "output_type": "stream",
     "text": [
      "/home/ymarca/anaconda3/envs/deeplearning/lib/python3.8/site-packages/fastai/torch_core.py:263: UserWarning: 'has_mps' is deprecated, please use 'torch.backends.mps.is_built()'\n",
      "  return getattr(torch, 'has_mps', False)\n",
      "/home/ymarca/anaconda3/envs/deeplearning/lib/python3.8/site-packages/fastai/torch_core.py:263: UserWarning: 'has_mps' is deprecated, please use 'torch.backends.mps.is_built()'\n",
      "  return getattr(torch, 'has_mps', False)\n",
      "/home/ymarca/anaconda3/envs/deeplearning/lib/python3.8/site-packages/fastai/torch_core.py:263: UserWarning: 'has_mps' is deprecated, please use 'torch.backends.mps.is_built()'\n",
      "  return getattr(torch, 'has_mps', False)\n",
      "/home/ymarca/anaconda3/envs/deeplearning/lib/python3.8/site-packages/fastai/torch_core.py:263: UserWarning: 'has_mps' is deprecated, please use 'torch.backends.mps.is_built()'\n",
      "  return getattr(torch, 'has_mps', False)\n"
     ]
    }
   ],
   "source": [
    "learn.fine_tune(4, 1e-2)"
   ]
  },
  {
   "cell_type": "markdown",
   "id": "fc66863d",
   "metadata": {},
   "source": [
    "- Sadly, my no-GPU notebook is not able to handle the fine-tuning process.\n",
    "- Also, there are many warnings from PyTorch yield.\n",
    "- Let's save the dataset to run in another notebook with more processing capability."
   ]
  },
  {
   "cell_type": "code",
   "execution_count": 1,
   "id": "d55e428a",
   "metadata": {},
   "outputs": [],
   "source": [
    "!tar -czf selected_cifras.tar.gz selected_cifras"
   ]
  },
  {
   "cell_type": "code",
   "execution_count": null,
   "id": "2b8be788",
   "metadata": {},
   "outputs": [],
   "source": []
  }
 ],
 "metadata": {
  "kernelspec": {
   "display_name": "Python 3 (ipykernel)",
   "language": "python",
   "name": "python3"
  },
  "language_info": {
   "codemirror_mode": {
    "name": "ipython",
    "version": 3
   },
   "file_extension": ".py",
   "mimetype": "text/x-python",
   "name": "python",
   "nbconvert_exporter": "python",
   "pygments_lexer": "ipython3",
   "version": "3.8.18"
  }
 },
 "nbformat": 4,
 "nbformat_minor": 5
}
