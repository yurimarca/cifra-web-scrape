{
 "cells": [
  {
   "cell_type": "markdown",
   "id": "848b6133",
   "metadata": {},
   "source": [
    "# Scrape data from music-learning websites"
   ]
  },
  {
   "cell_type": "markdown",
   "id": "fee3b1cd",
   "metadata": {
    "slideshow": {
     "slide_type": "slide"
    }
   },
   "source": [
    "This repository cotains a study to check if it is possible to legally scrape data from music-learning websites such as https://www.cifras.com.br"
   ]
  },
  {
   "cell_type": "code",
   "execution_count": 8,
   "id": "285422d2",
   "metadata": {},
   "outputs": [
    {
     "name": "stdout",
     "output_type": "stream",
     "text": [
      "<pre>User-agent: googlebot\n",
      "User-agent: google\n",
      "User-agent: bingbot\n",
      "User-agent: bing\n",
      "Disallow:\n",
      "\n",
      "User-agent: *\n",
      "Disallow:\n",
      "Crawl-delay: 10\n",
      "\n",
      "Sitemap: https://www.cifras.com.br/sitemap_index.xml.gz\n",
      "</pre>\n"
     ]
    }
   ],
   "source": [
    "from selenium import webdriver\n",
    "from selenium.webdriver.firefox.options import Options\n",
    "\n",
    "from bs4 import BeautifulSoup\n",
    "\n",
    "options = Options()\n",
    "options.add_argument(\"--headless\")\n",
    "\n",
    "driver = webdriver.Firefox(options=options)\n",
    "\n",
    "url = \"https://www.cifras.com.br/robots.txt\"\n",
    "\n",
    "driver.get(url)\n",
    "\n",
    "soup = BeautifulSoup(driver.page_source, \"lxml\")\n",
    "\n",
    "txt = soup.find(\"pre\")\n",
    "\n",
    "driver.quit()\n",
    "\n",
    "print(txt)"
   ]
  },
  {
   "cell_type": "code",
   "execution_count": 9,
   "id": "74a24493",
   "metadata": {},
   "outputs": [
    {
     "name": "stdout",
     "output_type": "stream",
     "text": [
      "--2023-12-07 15:56:50--  https://www.cifras.com.br/sitemap_index.xml.gz\n",
      "Resolving www.cifras.com.br (www.cifras.com.br)... 104.26.6.6, 172.67.74.6, 104.26.7.6\n",
      "Connecting to www.cifras.com.br (www.cifras.com.br)|104.26.6.6|:443... connected.\n",
      "HTTP request sent, awaiting response... 200 OK\n",
      "Length: 354 [application/octet-stream]\n",
      "Saving to: ‘sitemap_index.xml.gz’\n",
      "\n",
      "sitemap_index.xml.g 100%[===================>]     354  --.-KB/s    in 0s      \n",
      "\n",
      "2023-12-07 15:56:51 (3.96 MB/s) - ‘sitemap_index.xml.gz’ saved [354/354]\n",
      "\n"
     ]
    }
   ],
   "source": [
    "!wget https://www.cifras.com.br/sitemap_index.xml.gz"
   ]
  },
  {
   "cell_type": "code",
   "execution_count": 42,
   "id": "09aed960",
   "metadata": {},
   "outputs": [
    {
     "name": "stdout",
     "output_type": "stream",
     "text": [
      "cifrasoup.py\t\t      djavan-oceano.txt  sitemap_index.xml.gz\r\n",
      "cifra_txt.txt\t\t      geckodriver.log\r\n",
      "cifra-web-scrape-study.ipynb  README.md\r\n"
     ]
    }
   ],
   "source": [
    "!ls"
   ]
  },
  {
   "cell_type": "code",
   "execution_count": 46,
   "id": "8c49b419",
   "metadata": {},
   "outputs": [],
   "source": [
    "with open(\"sitemap_index.xml\", \"r\", encoding=\"utf-8\") as f:\n",
    "    sitemap_content = f.read()"
   ]
  },
  {
   "cell_type": "code",
   "execution_count": 50,
   "id": "82a34116",
   "metadata": {},
   "outputs": [
    {
     "name": "stdout",
     "output_type": "stream",
     "text": [
      "Link does not exist in the sitemap.\n"
     ]
    }
   ],
   "source": [
    "import requests\n",
    "\n",
    "def check_link_exists(link):\n",
    "    with open(\"sitemap_index.xml\", \"r\", encoding=\"utf-8\") as f:\n",
    "        sitemap_content = f.read()\n",
    "\n",
    "    # Extract links from the sitemap\n",
    "    links = []\n",
    "    for line in sitemap_content.splitlines():\n",
    "        if \"<loc>\" in line:\n",
    "            start = line.find(\"<loc>\") + 5\n",
    "            end = line.find(\"</loc>\")\n",
    "            links.append(line[start:end])\n",
    "\n",
    "    # Check if the link exists in the extracted links\n",
    "    return link in links\n",
    "\n",
    "# Example usage\n",
    "link = \"https://www.cifras.com.br/cifra/joao-gilberto/chega-de-saudade\"\n",
    "\n",
    "if check_link_exists(link):\n",
    "    print(\"Link exists in the sitemap!\")\n",
    "else:\n",
    "    print(\"Link does not exist in the sitemap.\")"
   ]
  },
  {
   "cell_type": "code",
   "execution_count": 19,
   "id": "c5ed2db5",
   "metadata": {},
   "outputs": [
    {
     "name": "stdout",
     "output_type": "stream",
     "text": [
      "[Intro: ]Gm7 A7(b13) Dm7 Dm/C Bº Bbm6 A7(b13) Dm7 Eb7/9  \n",
      "\n",
      "Dm     Dm/C     Bº          Bbm6  A7(b13)  Dm7          Eb7/9  \n",
      "Vai minha tristeza e diz a ela    que sem ela   Não pode ser,     \n",
      "Dm7  Dm/C  E/B E7 Am7            Bb6/9                   \n",
      "Diz-lhe   numa prece Que ela regresse  \n",
      "           Am7    A7(b13)     \n",
      "Porque eu não posso Mais sofrer.     \n",
      "Dm   Dm/C    Bº        Bbm6  \n",
      "Chega de saudade a realidade  \n",
      "   A7(b13) D7M/9        D7/9-         Gm7   \n",
      "É que sem ela não há paz, não há beleza  \n",
      "  A7(b13)  Dm7  Dm7/A      Dm/C  \n",
      "É só tristeza e a melancolia  \n",
      "         Bº           Bbm6   A7(b13) Dm7  Dm7/A  Em7 A7(13) A7  \n",
      "Que não sai de mim, não sai de mim, não sai  \n",
      "\n",
      "\n",
      "D7M/9  B7/9-      E7/9            Em7/9  \n",
      "Mas       se ela voltar, se ela voltar,   \n",
      "          G/A  A7(b13)         Dº D6/9  \n",
      "Que coisa lin---da, que coisa louca  \n",
      "     D7M/F#             Fº   Em7    \n",
      "Pois há menos peixinhos a nadar no mar  \n",
      "            E7/9                        G/A  G7/9-    \n",
      "Do que os beijinhos que eu darei Na sua bo...ca  \n",
      "D7M   Bm7        E7/9  \n",
      "dentro dos meus braços  \n",
      "     F#7          Bm7    Bbm7       Am7  \n",
      "Os abraços hão de ser, milhões de abraços  \n",
      "D7/9-       G7M   Gm7           F#m7  \n",
      "Apertado assim, colado assim, calado assim  \n",
      "  B7/13 B7/b13  E7/9     A7(13) A7          F#7(13) F#7(b13)  \n",
      "Abraços e beijinhos e carinhos sem ter fim  \n",
      "           A/B        B7/9- E7/9     A7/13          D6/9  \n",
      "Que é pra acabar com este negócio de você Viver sem mim. \t  \n",
      "      C7/9  B7/9-     E7/9     A7/13        D6/9  \n",
      "Não quero mais esse negócio de você longe de mim  \n",
      "      C7/9  B7/9-     E7/9     A7/13        D6/9  \n",
      "Vamos deixar desse negócio de você viver sem mim\n"
     ]
    }
   ],
   "source": [
    "import sys\n",
    "import time\n",
    "\n",
    "from selenium import webdriver\n",
    "from selenium.webdriver.firefox.options import Options\n",
    "\n",
    "from bs4 import BeautifulSoup\n",
    "\n",
    "def scrape_cifra(url):\n",
    "\n",
    "    try:\n",
    "        options = Options()\n",
    "        options.add_argument(\"--headless\")\n",
    "\n",
    "        driver = webdriver.Firefox(options=options)\n",
    "\n",
    "        driver.get(url)\n",
    "        driver.implicitly_wait(10)\n",
    "\n",
    "        soup = BeautifulSoup(driver.page_source, \"lxml\")\n",
    "        cifrasoup = soup.find(\"pre\")\n",
    "        cifra_txt = cifrasoup.get_text()\n",
    "        \n",
    "        driver.quit()\n",
    "        \n",
    "    except Exception as e:\n",
    "        print(f\"Scraping Error!!!!\")\n",
    "        print(e)\n",
    "        return \"ERROR!!\"\n",
    "\n",
    "    return cifra_txt\n",
    "\n",
    "url = \"https://www.cifras.com.br/cifra/joao-gilberto/chega-de-saudade\"\n",
    "cifra_txt = scrape_cifra(url)\n",
    "print(cifra_txt)"
   ]
  },
  {
   "cell_type": "code",
   "execution_count": 20,
   "id": "a85d8cca",
   "metadata": {},
   "outputs": [],
   "source": [
    "def save_to_file(filename, content):\n",
    "    with open(filename, \"w\") as file:\n",
    "        file.write(content)\n",
    "\n",
    "#cifra_txt = scrape_cifra(url)\n",
    "\n",
    "save_to_file(\"cifra_txt.txt\", cifra_txt)\n"
   ]
  },
  {
   "cell_type": "code",
   "execution_count": 21,
   "id": "bcfb7687",
   "metadata": {},
   "outputs": [
    {
     "name": "stdout",
     "output_type": "stream",
     "text": [
      "[Intro: ]Gm7 A7(b13) Dm7 Dm/C Bº Bbm6 A7(b13) Dm7 Eb7/9  \r\n",
      "\r\n",
      "Dm     Dm/C     Bº          Bbm6  A7(b13)  Dm7          Eb7/9  \r\n",
      "Vai minha tristeza e diz a ela    que sem ela   Não pode ser,     \r\n",
      "Dm7  Dm/C  E/B E7 Am7            Bb6/9                   \r\n",
      "Diz-lhe   numa prece Que ela regresse  \r\n",
      "           Am7    A7(b13)     \r\n",
      "Porque eu não posso Mais sofrer.     \r\n",
      "Dm   Dm/C    Bº        Bbm6  \r\n",
      "Chega de saudade a realidade  \r\n",
      "   A7(b13) D7M/9        D7/9-         Gm7   \r\n",
      "É que sem ela não há paz, não há beleza  \r\n",
      "  A7(b13)  Dm7  Dm7/A      Dm/C  \r\n",
      "É só tristeza e a melancolia  \r\n",
      "         Bº           Bbm6   A7(b13) Dm7  Dm7/A  Em7 A7(13) A7  \r\n",
      "Que não sai de mim, não sai de mim, não sai  \r\n",
      "\r\n",
      "\r\n",
      "D7M/9  B7/9-      E7/9            Em7/9  \r\n",
      "Mas       se ela voltar, se ela voltar,   \r\n",
      "          G/A  A7(b13)         Dº D6/9  \r\n",
      "Que coisa lin---da, que coisa louca  \r\n",
      "     D7M/F#             Fº   Em7    \r\n",
      "Pois há menos peixinhos a nadar no mar  \r\n",
      "            E7/9                        G/A  G7/9-    \r\n",
      "Do que os beijinhos que eu darei Na sua bo...ca  \r\n",
      "D7M   Bm7        E7/9  \r\n",
      "dentro dos meus braços  \r\n",
      "     F#7          Bm7    Bbm7       Am7  \r\n",
      "Os abraços hão de ser, milhões de abraços  \r\n",
      "D7/9-       G7M   Gm7           F#m7  \r\n",
      "Apertado assim, colado assim, calado assim  \r\n",
      "  B7/13 B7/b13  E7/9     A7(13) A7          F#7(13) F#7(b13)  \r\n",
      "Abraços e beijinhos e carinhos sem ter fim  \r\n",
      "           A/B        B7/9- E7/9     A7/13          D6/9  \r\n",
      "Que é pra acabar com este negócio de você Viver sem mim. \t  \r\n",
      "      C7/9  B7/9-     E7/9     A7/13        D6/9  \r\n",
      "Não quero mais esse negócio de você longe de mim  \r\n",
      "      C7/9  B7/9-     E7/9     A7/13        D6/9  \r\n",
      "Vamos deixar desse negócio de você viver sem mim"
     ]
    }
   ],
   "source": [
    "!cat cifra_txt.txt"
   ]
  },
  {
   "cell_type": "markdown",
   "id": "a9e74339",
   "metadata": {},
   "source": []
  },
  {
   "cell_type": "code",
   "execution_count": null,
   "id": "e86a67f9",
   "metadata": {},
   "outputs": [],
   "source": []
  },
  {
   "cell_type": "code",
   "execution_count": 22,
   "id": "6efbd6d9",
   "metadata": {},
   "outputs": [],
   "source": [
    "test=\"https://www.cifras.com.br/cifra/djavan/oceano\""
   ]
  },
  {
   "cell_type": "code",
   "execution_count": 35,
   "id": "f28fb2ae",
   "metadata": {},
   "outputs": [
    {
     "data": {
      "text/plain": [
       "'djavan-oceano'"
      ]
     },
     "execution_count": 35,
     "metadata": {},
     "output_type": "execute_result"
    }
   ],
   "source": [
    "\"-\".join(test[32:].split(\"/\"))"
   ]
  },
  {
   "cell_type": "code",
   "execution_count": 52,
   "id": "e4adbef0",
   "metadata": {},
   "outputs": [
    {
     "name": "stdout",
     "output_type": "stream",
     "text": [
      "Cifra: djavan-oceano\n",
      "save to file=djavan-oceano.txt\n",
      "------------------------------------------------\n",
      "Cifra: caetano-veloso-sozinho-acustico\n",
      "save to file=caetano-veloso-sozinho-acustico.txt\n",
      "------------------------------------------------\n",
      "Cifra: chico-buarque-joao-e-maria\n",
      "save to file=chico-buarque-joao-e-maria.txt\n",
      "------------------------------------------------\n",
      "Cifra: joao-gilberto-corcovado\n",
      "save to file=joao-gilberto-corcovado.txt\n",
      "------------------------------------------------\n",
      "Cifra: joao-gilberto-manha-de-carnaval\n"
     ]
    },
    {
     "ename": "KeyboardInterrupt",
     "evalue": "",
     "output_type": "error",
     "traceback": [
      "\u001b[0;31m---------------------------------------------------------------------------\u001b[0m",
      "\u001b[0;31mKeyboardInterrupt\u001b[0m                         Traceback (most recent call last)",
      "Cell \u001b[0;32mIn[52], line 14\u001b[0m\n\u001b[1;32m     11\u001b[0m new_cifra \u001b[38;5;241m=\u001b[39m \u001b[38;5;124m\"\u001b[39m\u001b[38;5;124m-\u001b[39m\u001b[38;5;124m\"\u001b[39m\u001b[38;5;241m.\u001b[39mjoin(url[\u001b[38;5;241m32\u001b[39m:]\u001b[38;5;241m.\u001b[39msplit(\u001b[38;5;124m\"\u001b[39m\u001b[38;5;124m/\u001b[39m\u001b[38;5;124m\"\u001b[39m))\n\u001b[1;32m     12\u001b[0m \u001b[38;5;28mprint\u001b[39m(\u001b[38;5;124mf\u001b[39m\u001b[38;5;124m\"\u001b[39m\u001b[38;5;124mCifra: \u001b[39m\u001b[38;5;132;01m{\u001b[39;00mnew_cifra\u001b[38;5;132;01m}\u001b[39;00m\u001b[38;5;124m\"\u001b[39m)\n\u001b[0;32m---> 14\u001b[0m cifra_txt \u001b[38;5;241m=\u001b[39m \u001b[43mscrape_cifra\u001b[49m\u001b[43m(\u001b[49m\u001b[43murl\u001b[49m\u001b[43m)\u001b[49m\n\u001b[1;32m     15\u001b[0m save_to_file(\u001b[38;5;124mf\u001b[39m\u001b[38;5;124m\"\u001b[39m\u001b[38;5;132;01m{\u001b[39;00mnew_cifra\u001b[38;5;132;01m}\u001b[39;00m\u001b[38;5;124m.txt\u001b[39m\u001b[38;5;124m\"\u001b[39m, cifra_txt)\n\u001b[1;32m     17\u001b[0m \u001b[38;5;28mprint\u001b[39m(\u001b[38;5;124mf\u001b[39m\u001b[38;5;124m\"\u001b[39m\u001b[38;5;124msave to file=\u001b[39m\u001b[38;5;132;01m{\u001b[39;00mnew_cifra\u001b[38;5;132;01m}\u001b[39;00m\u001b[38;5;124m.txt\u001b[39m\u001b[38;5;124m\"\u001b[39m)\n",
      "Cell \u001b[0;32mIn[19], line 17\u001b[0m, in \u001b[0;36mscrape_cifra\u001b[0;34m(url)\u001b[0m\n\u001b[1;32m     13\u001b[0m options\u001b[38;5;241m.\u001b[39madd_argument(\u001b[38;5;124m\"\u001b[39m\u001b[38;5;124m--headless\u001b[39m\u001b[38;5;124m\"\u001b[39m)\n\u001b[1;32m     15\u001b[0m driver \u001b[38;5;241m=\u001b[39m webdriver\u001b[38;5;241m.\u001b[39mFirefox(options\u001b[38;5;241m=\u001b[39moptions)\n\u001b[0;32m---> 17\u001b[0m \u001b[43mdriver\u001b[49m\u001b[38;5;241;43m.\u001b[39;49m\u001b[43mget\u001b[49m\u001b[43m(\u001b[49m\u001b[43murl\u001b[49m\u001b[43m)\u001b[49m\n\u001b[1;32m     18\u001b[0m driver\u001b[38;5;241m.\u001b[39mimplicitly_wait(\u001b[38;5;241m30\u001b[39m)\n\u001b[1;32m     20\u001b[0m soup \u001b[38;5;241m=\u001b[39m BeautifulSoup(driver\u001b[38;5;241m.\u001b[39mpage_source, \u001b[38;5;124m\"\u001b[39m\u001b[38;5;124mlxml\u001b[39m\u001b[38;5;124m\"\u001b[39m)\n",
      "File \u001b[0;32m~/anaconda3/envs/deeplearning/lib/python3.8/site-packages/selenium/webdriver/remote/webdriver.py:333\u001b[0m, in \u001b[0;36mWebDriver.get\u001b[0;34m(self, url)\u001b[0m\n\u001b[1;32m    329\u001b[0m \u001b[38;5;28;01mdef\u001b[39;00m \u001b[38;5;21mget\u001b[39m(\u001b[38;5;28mself\u001b[39m, url):\n\u001b[1;32m    330\u001b[0m \u001b[38;5;250m    \u001b[39m\u001b[38;5;124;03m\"\"\"\u001b[39;00m\n\u001b[1;32m    331\u001b[0m \u001b[38;5;124;03m    Loads a web page in the current browser session.\u001b[39;00m\n\u001b[1;32m    332\u001b[0m \u001b[38;5;124;03m    \"\"\"\u001b[39;00m\n\u001b[0;32m--> 333\u001b[0m     \u001b[38;5;28;43mself\u001b[39;49m\u001b[38;5;241;43m.\u001b[39;49m\u001b[43mexecute\u001b[49m\u001b[43m(\u001b[49m\u001b[43mCommand\u001b[49m\u001b[38;5;241;43m.\u001b[39;49m\u001b[43mGET\u001b[49m\u001b[43m,\u001b[49m\u001b[43m \u001b[49m\u001b[43m{\u001b[49m\u001b[38;5;124;43m'\u001b[39;49m\u001b[38;5;124;43murl\u001b[39;49m\u001b[38;5;124;43m'\u001b[39;49m\u001b[43m:\u001b[49m\u001b[43m \u001b[49m\u001b[43murl\u001b[49m\u001b[43m}\u001b[49m\u001b[43m)\u001b[49m\n",
      "File \u001b[0;32m~/anaconda3/envs/deeplearning/lib/python3.8/site-packages/selenium/webdriver/remote/webdriver.py:319\u001b[0m, in \u001b[0;36mWebDriver.execute\u001b[0;34m(self, driver_command, params)\u001b[0m\n\u001b[1;32m    316\u001b[0m         params[\u001b[38;5;124m'\u001b[39m\u001b[38;5;124msessionId\u001b[39m\u001b[38;5;124m'\u001b[39m] \u001b[38;5;241m=\u001b[39m \u001b[38;5;28mself\u001b[39m\u001b[38;5;241m.\u001b[39msession_id\n\u001b[1;32m    318\u001b[0m params \u001b[38;5;241m=\u001b[39m \u001b[38;5;28mself\u001b[39m\u001b[38;5;241m.\u001b[39m_wrap_value(params)\n\u001b[0;32m--> 319\u001b[0m response \u001b[38;5;241m=\u001b[39m \u001b[38;5;28;43mself\u001b[39;49m\u001b[38;5;241;43m.\u001b[39;49m\u001b[43mcommand_executor\u001b[49m\u001b[38;5;241;43m.\u001b[39;49m\u001b[43mexecute\u001b[49m\u001b[43m(\u001b[49m\u001b[43mdriver_command\u001b[49m\u001b[43m,\u001b[49m\u001b[43m \u001b[49m\u001b[43mparams\u001b[49m\u001b[43m)\u001b[49m\n\u001b[1;32m    320\u001b[0m \u001b[38;5;28;01mif\u001b[39;00m response:\n\u001b[1;32m    321\u001b[0m     \u001b[38;5;28mself\u001b[39m\u001b[38;5;241m.\u001b[39merror_handler\u001b[38;5;241m.\u001b[39mcheck_response(response)\n",
      "File \u001b[0;32m~/anaconda3/envs/deeplearning/lib/python3.8/site-packages/selenium/webdriver/remote/remote_connection.py:374\u001b[0m, in \u001b[0;36mRemoteConnection.execute\u001b[0;34m(self, command, params)\u001b[0m\n\u001b[1;32m    372\u001b[0m data \u001b[38;5;241m=\u001b[39m utils\u001b[38;5;241m.\u001b[39mdump_json(params)\n\u001b[1;32m    373\u001b[0m url \u001b[38;5;241m=\u001b[39m \u001b[38;5;124m'\u001b[39m\u001b[38;5;132;01m%s\u001b[39;00m\u001b[38;5;132;01m%s\u001b[39;00m\u001b[38;5;124m'\u001b[39m \u001b[38;5;241m%\u001b[39m (\u001b[38;5;28mself\u001b[39m\u001b[38;5;241m.\u001b[39m_url, path)\n\u001b[0;32m--> 374\u001b[0m \u001b[38;5;28;01mreturn\u001b[39;00m \u001b[38;5;28;43mself\u001b[39;49m\u001b[38;5;241;43m.\u001b[39;49m\u001b[43m_request\u001b[49m\u001b[43m(\u001b[49m\u001b[43mcommand_info\u001b[49m\u001b[43m[\u001b[49m\u001b[38;5;241;43m0\u001b[39;49m\u001b[43m]\u001b[49m\u001b[43m,\u001b[49m\u001b[43m \u001b[49m\u001b[43murl\u001b[49m\u001b[43m,\u001b[49m\u001b[43m \u001b[49m\u001b[43mbody\u001b[49m\u001b[38;5;241;43m=\u001b[39;49m\u001b[43mdata\u001b[49m\u001b[43m)\u001b[49m\n",
      "File \u001b[0;32m~/anaconda3/envs/deeplearning/lib/python3.8/site-packages/selenium/webdriver/remote/remote_connection.py:397\u001b[0m, in \u001b[0;36mRemoteConnection._request\u001b[0;34m(self, method, url, body)\u001b[0m\n\u001b[1;32m    394\u001b[0m     body \u001b[38;5;241m=\u001b[39m \u001b[38;5;28;01mNone\u001b[39;00m\n\u001b[1;32m    396\u001b[0m \u001b[38;5;28;01mif\u001b[39;00m \u001b[38;5;28mself\u001b[39m\u001b[38;5;241m.\u001b[39mkeep_alive:\n\u001b[0;32m--> 397\u001b[0m     resp \u001b[38;5;241m=\u001b[39m \u001b[38;5;28;43mself\u001b[39;49m\u001b[38;5;241;43m.\u001b[39;49m\u001b[43m_conn\u001b[49m\u001b[38;5;241;43m.\u001b[39;49m\u001b[43mrequest\u001b[49m\u001b[43m(\u001b[49m\u001b[43mmethod\u001b[49m\u001b[43m,\u001b[49m\u001b[43m \u001b[49m\u001b[43murl\u001b[49m\u001b[43m,\u001b[49m\u001b[43m \u001b[49m\u001b[43mbody\u001b[49m\u001b[38;5;241;43m=\u001b[39;49m\u001b[43mbody\u001b[49m\u001b[43m,\u001b[49m\u001b[43m \u001b[49m\u001b[43mheaders\u001b[49m\u001b[38;5;241;43m=\u001b[39;49m\u001b[43mheaders\u001b[49m\u001b[43m)\u001b[49m\n\u001b[1;32m    399\u001b[0m     statuscode \u001b[38;5;241m=\u001b[39m resp\u001b[38;5;241m.\u001b[39mstatus\n\u001b[1;32m    400\u001b[0m \u001b[38;5;28;01melse\u001b[39;00m:\n",
      "File \u001b[0;32m~/anaconda3/envs/deeplearning/lib/python3.8/site-packages/urllib3/request.py:78\u001b[0m, in \u001b[0;36mRequestMethods.request\u001b[0;34m(self, method, url, fields, headers, **urlopen_kw)\u001b[0m\n\u001b[1;32m     74\u001b[0m     \u001b[38;5;28;01mreturn\u001b[39;00m \u001b[38;5;28mself\u001b[39m\u001b[38;5;241m.\u001b[39mrequest_encode_url(\n\u001b[1;32m     75\u001b[0m         method, url, fields\u001b[38;5;241m=\u001b[39mfields, headers\u001b[38;5;241m=\u001b[39mheaders, \u001b[38;5;241m*\u001b[39m\u001b[38;5;241m*\u001b[39murlopen_kw\n\u001b[1;32m     76\u001b[0m     )\n\u001b[1;32m     77\u001b[0m \u001b[38;5;28;01melse\u001b[39;00m:\n\u001b[0;32m---> 78\u001b[0m     \u001b[38;5;28;01mreturn\u001b[39;00m \u001b[38;5;28;43mself\u001b[39;49m\u001b[38;5;241;43m.\u001b[39;49m\u001b[43mrequest_encode_body\u001b[49m\u001b[43m(\u001b[49m\n\u001b[1;32m     79\u001b[0m \u001b[43m        \u001b[49m\u001b[43mmethod\u001b[49m\u001b[43m,\u001b[49m\u001b[43m \u001b[49m\u001b[43murl\u001b[49m\u001b[43m,\u001b[49m\u001b[43m \u001b[49m\u001b[43mfields\u001b[49m\u001b[38;5;241;43m=\u001b[39;49m\u001b[43mfields\u001b[49m\u001b[43m,\u001b[49m\u001b[43m \u001b[49m\u001b[43mheaders\u001b[49m\u001b[38;5;241;43m=\u001b[39;49m\u001b[43mheaders\u001b[49m\u001b[43m,\u001b[49m\u001b[43m \u001b[49m\u001b[38;5;241;43m*\u001b[39;49m\u001b[38;5;241;43m*\u001b[39;49m\u001b[43murlopen_kw\u001b[49m\n\u001b[1;32m     80\u001b[0m \u001b[43m    \u001b[49m\u001b[43m)\u001b[49m\n",
      "File \u001b[0;32m~/anaconda3/envs/deeplearning/lib/python3.8/site-packages/urllib3/request.py:170\u001b[0m, in \u001b[0;36mRequestMethods.request_encode_body\u001b[0;34m(self, method, url, fields, headers, encode_multipart, multipart_boundary, **urlopen_kw)\u001b[0m\n\u001b[1;32m    167\u001b[0m extra_kw[\u001b[38;5;124m\"\u001b[39m\u001b[38;5;124mheaders\u001b[39m\u001b[38;5;124m\"\u001b[39m]\u001b[38;5;241m.\u001b[39mupdate(headers)\n\u001b[1;32m    168\u001b[0m extra_kw\u001b[38;5;241m.\u001b[39mupdate(urlopen_kw)\n\u001b[0;32m--> 170\u001b[0m \u001b[38;5;28;01mreturn\u001b[39;00m \u001b[38;5;28;43mself\u001b[39;49m\u001b[38;5;241;43m.\u001b[39;49m\u001b[43murlopen\u001b[49m\u001b[43m(\u001b[49m\u001b[43mmethod\u001b[49m\u001b[43m,\u001b[49m\u001b[43m \u001b[49m\u001b[43murl\u001b[49m\u001b[43m,\u001b[49m\u001b[43m \u001b[49m\u001b[38;5;241;43m*\u001b[39;49m\u001b[38;5;241;43m*\u001b[39;49m\u001b[43mextra_kw\u001b[49m\u001b[43m)\u001b[49m\n",
      "File \u001b[0;32m~/anaconda3/envs/deeplearning/lib/python3.8/site-packages/urllib3/poolmanager.py:376\u001b[0m, in \u001b[0;36mPoolManager.urlopen\u001b[0;34m(self, method, url, redirect, **kw)\u001b[0m\n\u001b[1;32m    374\u001b[0m     response \u001b[38;5;241m=\u001b[39m conn\u001b[38;5;241m.\u001b[39murlopen(method, url, \u001b[38;5;241m*\u001b[39m\u001b[38;5;241m*\u001b[39mkw)\n\u001b[1;32m    375\u001b[0m \u001b[38;5;28;01melse\u001b[39;00m:\n\u001b[0;32m--> 376\u001b[0m     response \u001b[38;5;241m=\u001b[39m \u001b[43mconn\u001b[49m\u001b[38;5;241;43m.\u001b[39;49m\u001b[43murlopen\u001b[49m\u001b[43m(\u001b[49m\u001b[43mmethod\u001b[49m\u001b[43m,\u001b[49m\u001b[43m \u001b[49m\u001b[43mu\u001b[49m\u001b[38;5;241;43m.\u001b[39;49m\u001b[43mrequest_uri\u001b[49m\u001b[43m,\u001b[49m\u001b[43m \u001b[49m\u001b[38;5;241;43m*\u001b[39;49m\u001b[38;5;241;43m*\u001b[39;49m\u001b[43mkw\u001b[49m\u001b[43m)\u001b[49m\n\u001b[1;32m    378\u001b[0m redirect_location \u001b[38;5;241m=\u001b[39m redirect \u001b[38;5;129;01mand\u001b[39;00m response\u001b[38;5;241m.\u001b[39mget_redirect_location()\n\u001b[1;32m    379\u001b[0m \u001b[38;5;28;01mif\u001b[39;00m \u001b[38;5;129;01mnot\u001b[39;00m redirect_location:\n",
      "File \u001b[0;32m~/anaconda3/envs/deeplearning/lib/python3.8/site-packages/urllib3/connectionpool.py:714\u001b[0m, in \u001b[0;36mHTTPConnectionPool.urlopen\u001b[0;34m(self, method, url, body, headers, retries, redirect, assert_same_host, timeout, pool_timeout, release_conn, chunked, body_pos, **response_kw)\u001b[0m\n\u001b[1;32m    711\u001b[0m     \u001b[38;5;28mself\u001b[39m\u001b[38;5;241m.\u001b[39m_prepare_proxy(conn)\n\u001b[1;32m    713\u001b[0m \u001b[38;5;66;03m# Make the request on the httplib connection object.\u001b[39;00m\n\u001b[0;32m--> 714\u001b[0m httplib_response \u001b[38;5;241m=\u001b[39m \u001b[38;5;28;43mself\u001b[39;49m\u001b[38;5;241;43m.\u001b[39;49m\u001b[43m_make_request\u001b[49m\u001b[43m(\u001b[49m\n\u001b[1;32m    715\u001b[0m \u001b[43m    \u001b[49m\u001b[43mconn\u001b[49m\u001b[43m,\u001b[49m\n\u001b[1;32m    716\u001b[0m \u001b[43m    \u001b[49m\u001b[43mmethod\u001b[49m\u001b[43m,\u001b[49m\n\u001b[1;32m    717\u001b[0m \u001b[43m    \u001b[49m\u001b[43murl\u001b[49m\u001b[43m,\u001b[49m\n\u001b[1;32m    718\u001b[0m \u001b[43m    \u001b[49m\u001b[43mtimeout\u001b[49m\u001b[38;5;241;43m=\u001b[39;49m\u001b[43mtimeout_obj\u001b[49m\u001b[43m,\u001b[49m\n\u001b[1;32m    719\u001b[0m \u001b[43m    \u001b[49m\u001b[43mbody\u001b[49m\u001b[38;5;241;43m=\u001b[39;49m\u001b[43mbody\u001b[49m\u001b[43m,\u001b[49m\n\u001b[1;32m    720\u001b[0m \u001b[43m    \u001b[49m\u001b[43mheaders\u001b[49m\u001b[38;5;241;43m=\u001b[39;49m\u001b[43mheaders\u001b[49m\u001b[43m,\u001b[49m\n\u001b[1;32m    721\u001b[0m \u001b[43m    \u001b[49m\u001b[43mchunked\u001b[49m\u001b[38;5;241;43m=\u001b[39;49m\u001b[43mchunked\u001b[49m\u001b[43m,\u001b[49m\n\u001b[1;32m    722\u001b[0m \u001b[43m\u001b[49m\u001b[43m)\u001b[49m\n\u001b[1;32m    724\u001b[0m \u001b[38;5;66;03m# If we're going to release the connection in ``finally:``, then\u001b[39;00m\n\u001b[1;32m    725\u001b[0m \u001b[38;5;66;03m# the response doesn't need to know about the connection. Otherwise\u001b[39;00m\n\u001b[1;32m    726\u001b[0m \u001b[38;5;66;03m# it will also try to release it and we'll have a double-release\u001b[39;00m\n\u001b[1;32m    727\u001b[0m \u001b[38;5;66;03m# mess.\u001b[39;00m\n\u001b[1;32m    728\u001b[0m response_conn \u001b[38;5;241m=\u001b[39m conn \u001b[38;5;28;01mif\u001b[39;00m \u001b[38;5;129;01mnot\u001b[39;00m release_conn \u001b[38;5;28;01melse\u001b[39;00m \u001b[38;5;28;01mNone\u001b[39;00m\n",
      "File \u001b[0;32m~/anaconda3/envs/deeplearning/lib/python3.8/site-packages/urllib3/connectionpool.py:466\u001b[0m, in \u001b[0;36mHTTPConnectionPool._make_request\u001b[0;34m(self, conn, method, url, timeout, chunked, **httplib_request_kw)\u001b[0m\n\u001b[1;32m    461\u001b[0m             httplib_response \u001b[38;5;241m=\u001b[39m conn\u001b[38;5;241m.\u001b[39mgetresponse()\n\u001b[1;32m    462\u001b[0m         \u001b[38;5;28;01mexcept\u001b[39;00m \u001b[38;5;167;01mBaseException\u001b[39;00m \u001b[38;5;28;01mas\u001b[39;00m e:\n\u001b[1;32m    463\u001b[0m             \u001b[38;5;66;03m# Remove the TypeError from the exception chain in\u001b[39;00m\n\u001b[1;32m    464\u001b[0m             \u001b[38;5;66;03m# Python 3 (including for exceptions like SystemExit).\u001b[39;00m\n\u001b[1;32m    465\u001b[0m             \u001b[38;5;66;03m# Otherwise it looks like a bug in the code.\u001b[39;00m\n\u001b[0;32m--> 466\u001b[0m             \u001b[43msix\u001b[49m\u001b[38;5;241;43m.\u001b[39;49m\u001b[43mraise_from\u001b[49m\u001b[43m(\u001b[49m\u001b[43me\u001b[49m\u001b[43m,\u001b[49m\u001b[43m \u001b[49m\u001b[38;5;28;43;01mNone\u001b[39;49;00m\u001b[43m)\u001b[49m\n\u001b[1;32m    467\u001b[0m \u001b[38;5;28;01mexcept\u001b[39;00m (SocketTimeout, BaseSSLError, SocketError) \u001b[38;5;28;01mas\u001b[39;00m e:\n\u001b[1;32m    468\u001b[0m     \u001b[38;5;28mself\u001b[39m\u001b[38;5;241m.\u001b[39m_raise_timeout(err\u001b[38;5;241m=\u001b[39me, url\u001b[38;5;241m=\u001b[39murl, timeout_value\u001b[38;5;241m=\u001b[39mread_timeout)\n",
      "File \u001b[0;32m<string>:3\u001b[0m, in \u001b[0;36mraise_from\u001b[0;34m(value, from_value)\u001b[0m\n",
      "File \u001b[0;32m~/anaconda3/envs/deeplearning/lib/python3.8/site-packages/urllib3/connectionpool.py:461\u001b[0m, in \u001b[0;36mHTTPConnectionPool._make_request\u001b[0;34m(self, conn, method, url, timeout, chunked, **httplib_request_kw)\u001b[0m\n\u001b[1;32m    458\u001b[0m \u001b[38;5;28;01mexcept\u001b[39;00m \u001b[38;5;167;01mTypeError\u001b[39;00m:\n\u001b[1;32m    459\u001b[0m     \u001b[38;5;66;03m# Python 3\u001b[39;00m\n\u001b[1;32m    460\u001b[0m     \u001b[38;5;28;01mtry\u001b[39;00m:\n\u001b[0;32m--> 461\u001b[0m         httplib_response \u001b[38;5;241m=\u001b[39m \u001b[43mconn\u001b[49m\u001b[38;5;241;43m.\u001b[39;49m\u001b[43mgetresponse\u001b[49m\u001b[43m(\u001b[49m\u001b[43m)\u001b[49m\n\u001b[1;32m    462\u001b[0m     \u001b[38;5;28;01mexcept\u001b[39;00m \u001b[38;5;167;01mBaseException\u001b[39;00m \u001b[38;5;28;01mas\u001b[39;00m e:\n\u001b[1;32m    463\u001b[0m         \u001b[38;5;66;03m# Remove the TypeError from the exception chain in\u001b[39;00m\n\u001b[1;32m    464\u001b[0m         \u001b[38;5;66;03m# Python 3 (including for exceptions like SystemExit).\u001b[39;00m\n\u001b[1;32m    465\u001b[0m         \u001b[38;5;66;03m# Otherwise it looks like a bug in the code.\u001b[39;00m\n\u001b[1;32m    466\u001b[0m         six\u001b[38;5;241m.\u001b[39mraise_from(e, \u001b[38;5;28;01mNone\u001b[39;00m)\n",
      "File \u001b[0;32m~/anaconda3/envs/deeplearning/lib/python3.8/http/client.py:1348\u001b[0m, in \u001b[0;36mHTTPConnection.getresponse\u001b[0;34m(self)\u001b[0m\n\u001b[1;32m   1346\u001b[0m \u001b[38;5;28;01mtry\u001b[39;00m:\n\u001b[1;32m   1347\u001b[0m     \u001b[38;5;28;01mtry\u001b[39;00m:\n\u001b[0;32m-> 1348\u001b[0m         \u001b[43mresponse\u001b[49m\u001b[38;5;241;43m.\u001b[39;49m\u001b[43mbegin\u001b[49m\u001b[43m(\u001b[49m\u001b[43m)\u001b[49m\n\u001b[1;32m   1349\u001b[0m     \u001b[38;5;28;01mexcept\u001b[39;00m \u001b[38;5;167;01mConnectionError\u001b[39;00m:\n\u001b[1;32m   1350\u001b[0m         \u001b[38;5;28mself\u001b[39m\u001b[38;5;241m.\u001b[39mclose()\n",
      "File \u001b[0;32m~/anaconda3/envs/deeplearning/lib/python3.8/http/client.py:316\u001b[0m, in \u001b[0;36mHTTPResponse.begin\u001b[0;34m(self)\u001b[0m\n\u001b[1;32m    314\u001b[0m \u001b[38;5;66;03m# read until we get a non-100 response\u001b[39;00m\n\u001b[1;32m    315\u001b[0m \u001b[38;5;28;01mwhile\u001b[39;00m \u001b[38;5;28;01mTrue\u001b[39;00m:\n\u001b[0;32m--> 316\u001b[0m     version, status, reason \u001b[38;5;241m=\u001b[39m \u001b[38;5;28;43mself\u001b[39;49m\u001b[38;5;241;43m.\u001b[39;49m\u001b[43m_read_status\u001b[49m\u001b[43m(\u001b[49m\u001b[43m)\u001b[49m\n\u001b[1;32m    317\u001b[0m     \u001b[38;5;28;01mif\u001b[39;00m status \u001b[38;5;241m!=\u001b[39m CONTINUE:\n\u001b[1;32m    318\u001b[0m         \u001b[38;5;28;01mbreak\u001b[39;00m\n",
      "File \u001b[0;32m~/anaconda3/envs/deeplearning/lib/python3.8/http/client.py:277\u001b[0m, in \u001b[0;36mHTTPResponse._read_status\u001b[0;34m(self)\u001b[0m\n\u001b[1;32m    276\u001b[0m \u001b[38;5;28;01mdef\u001b[39;00m \u001b[38;5;21m_read_status\u001b[39m(\u001b[38;5;28mself\u001b[39m):\n\u001b[0;32m--> 277\u001b[0m     line \u001b[38;5;241m=\u001b[39m \u001b[38;5;28mstr\u001b[39m(\u001b[38;5;28;43mself\u001b[39;49m\u001b[38;5;241;43m.\u001b[39;49m\u001b[43mfp\u001b[49m\u001b[38;5;241;43m.\u001b[39;49m\u001b[43mreadline\u001b[49m\u001b[43m(\u001b[49m\u001b[43m_MAXLINE\u001b[49m\u001b[43m \u001b[49m\u001b[38;5;241;43m+\u001b[39;49m\u001b[43m \u001b[49m\u001b[38;5;241;43m1\u001b[39;49m\u001b[43m)\u001b[49m, \u001b[38;5;124m\"\u001b[39m\u001b[38;5;124miso-8859-1\u001b[39m\u001b[38;5;124m\"\u001b[39m)\n\u001b[1;32m    278\u001b[0m     \u001b[38;5;28;01mif\u001b[39;00m \u001b[38;5;28mlen\u001b[39m(line) \u001b[38;5;241m>\u001b[39m _MAXLINE:\n\u001b[1;32m    279\u001b[0m         \u001b[38;5;28;01mraise\u001b[39;00m LineTooLong(\u001b[38;5;124m\"\u001b[39m\u001b[38;5;124mstatus line\u001b[39m\u001b[38;5;124m\"\u001b[39m)\n",
      "File \u001b[0;32m~/anaconda3/envs/deeplearning/lib/python3.8/socket.py:669\u001b[0m, in \u001b[0;36mSocketIO.readinto\u001b[0;34m(self, b)\u001b[0m\n\u001b[1;32m    667\u001b[0m \u001b[38;5;28;01mwhile\u001b[39;00m \u001b[38;5;28;01mTrue\u001b[39;00m:\n\u001b[1;32m    668\u001b[0m     \u001b[38;5;28;01mtry\u001b[39;00m:\n\u001b[0;32m--> 669\u001b[0m         \u001b[38;5;28;01mreturn\u001b[39;00m \u001b[38;5;28;43mself\u001b[39;49m\u001b[38;5;241;43m.\u001b[39;49m\u001b[43m_sock\u001b[49m\u001b[38;5;241;43m.\u001b[39;49m\u001b[43mrecv_into\u001b[49m\u001b[43m(\u001b[49m\u001b[43mb\u001b[49m\u001b[43m)\u001b[49m\n\u001b[1;32m    670\u001b[0m     \u001b[38;5;28;01mexcept\u001b[39;00m timeout:\n\u001b[1;32m    671\u001b[0m         \u001b[38;5;28mself\u001b[39m\u001b[38;5;241m.\u001b[39m_timeout_occurred \u001b[38;5;241m=\u001b[39m \u001b[38;5;28;01mTrue\u001b[39;00m\n",
      "\u001b[0;31mKeyboardInterrupt\u001b[0m: "
     ]
    }
   ],
   "source": [
    "import sys\n",
    "import time\n",
    "\n",
    "urls = [\"https://www.cifras.com.br/cifra/djavan/oceano\", \n",
    "        \"https://www.cifras.com.br/cifra/caetano-veloso/sozinho-acustico\",\n",
    "       \"https://www.cifras.com.br/cifra/chico-buarque/joao-e-maria\",\n",
    "       \"https://www.cifras.com.br/cifra/joao-gilberto/corcovado\",\n",
    "       \"https://www.cifras.com.br/cifra/joao-gilberto/manha-de-carnaval\"]\n",
    "\n",
    "for url in urls:\n",
    "    new_cifra = \"-\".join(url[32:].split(\"/\"))\n",
    "    print(f\"Cifra: {new_cifra}\")\n",
    "\n",
    "    cifra_txt = scrape_cifra(url)\n",
    "    save_to_file(f\"{new_cifra}.txt\", cifra_txt)\n",
    "    \n",
    "    print(f\"save to file={new_cifra}.txt\")\n",
    "    \n",
    "    # Respect robots.txt instruction: 10s Crawl-delay\n",
    "    time.sleep(10)\n",
    "    print(\"------------------------------------------------\")\n"
   ]
  },
  {
   "cell_type": "code",
   "execution_count": 53,
   "id": "ab3c2f2e",
   "metadata": {},
   "outputs": [
    {
     "name": "stdout",
     "output_type": "stream",
     "text": [
      "Cifra: joao-gilberto-manha-de-carnaval\n",
      "save to file=joao-gilberto-manha-de-carnaval.txt\n",
      "------------------------------------------------\n",
      "Cifra: tom-jobim-aguas-de-marco\n",
      "save to file=tom-jobim-aguas-de-marco.txt\n",
      "------------------------------------------------\n",
      "Cifra: tom-jobim-wave\n",
      "save to file=tom-jobim-wave.txt\n",
      "------------------------------------------------\n",
      "Cifra: tom-jobim-samba-de-uma-nota-so\n",
      "save to file=tom-jobim-samba-de-uma-nota-so.txt\n",
      "------------------------------------------------\n",
      "Cifra: tom-jobim-eu-sei-que-vou-te-amar\n",
      "save to file=tom-jobim-eu-sei-que-vou-te-amar.txt\n",
      "------------------------------------------------\n",
      "Cifra: tom-jobim-samba-de-verao\n",
      "save to file=tom-jobim-samba-de-verao.txt\n",
      "------------------------------------------------\n",
      "Cifra: tom-jobim-desafinado\n",
      "save to file=tom-jobim-desafinado.txt\n",
      "------------------------------------------------\n",
      "Cifra: tom-jobim-samba-do-aviao\n",
      "save to file=tom-jobim-samba-do-aviao.txt\n",
      "------------------------------------------------\n",
      "Cifra: tom-jobim-insensatez\n",
      "save to file=tom-jobim-insensatez.txt\n",
      "------------------------------------------------\n"
     ]
    }
   ],
   "source": [
    "urls = [\"https://www.cifras.com.br/cifra/joao-gilberto/manha-de-carnaval\",\n",
    "        \"https://www.cifras.com.br/cifra/tom-jobim/aguas-de-marco\", \n",
    "        \"https://www.cifras.com.br/cifra/tom-jobim/wave\",\n",
    "        \"https://www.cifras.com.br/cifra/tom-jobim/samba-de-uma-nota-so\",\n",
    "        \"https://www.cifras.com.br/cifra/tom-jobim/eu-sei-que-vou-te-amar\",\n",
    "        \"https://www.cifras.com.br/cifra/tom-jobim/samba-de-verao\",\n",
    "        \"https://www.cifras.com.br/cifra/tom-jobim/desafinado\",\n",
    "        \"https://www.cifras.com.br/cifra/tom-jobim/samba-do-aviao\",\n",
    "        \"https://www.cifras.com.br/cifra/tom-jobim/insensatez\"]\n",
    "\n",
    "for url in urls:\n",
    "    new_cifra = \"-\".join(url[32:].split(\"/\"))\n",
    "    print(f\"Cifra: {new_cifra}\")\n",
    "\n",
    "    cifra_txt = scrape_cifra(url)\n",
    "    save_to_file(f\"{new_cifra}.txt\", cifra_txt)\n",
    "    \n",
    "    print(f\"save to file={new_cifra}.txt\")\n",
    "    \n",
    "    # Respect robots.txt instruction: 10s Crawl-delay\n",
    "    time.sleep(10)\n",
    "    print(\"------------------------------------------------\")"
   ]
  },
  {
   "cell_type": "code",
   "execution_count": null,
   "id": "16444d22",
   "metadata": {},
   "outputs": [],
   "source": []
  }
 ],
 "metadata": {
  "kernelspec": {
   "display_name": "Python 3 (ipykernel)",
   "language": "python",
   "name": "python3"
  },
  "language_info": {
   "codemirror_mode": {
    "name": "ipython",
    "version": 3
   },
   "file_extension": ".py",
   "mimetype": "text/x-python",
   "name": "python",
   "nbconvert_exporter": "python",
   "pygments_lexer": "ipython3",
   "version": "3.8.18"
  }
 },
 "nbformat": 4,
 "nbformat_minor": 5
}
